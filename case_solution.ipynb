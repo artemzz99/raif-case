{
 "cells": [
  {
   "cell_type": "code",
   "execution_count": 1,
   "metadata": {},
   "outputs": [],
   "source": [
    "import numpy as np\n",
    "import pandas as pd"
   ]
  },
  {
   "cell_type": "code",
   "execution_count": 6,
   "metadata": {},
   "outputs": [],
   "source": [
    "df_train = pd.read_csv('CUP_IT_train_data.csv', sep=',', skiprows=133)"
   ]
  },
  {
   "cell_type": "code",
   "execution_count": 7,
   "metadata": {},
   "outputs": [
    {
     "data": {
      "text/html": [
       "<div>\n",
       "<style scoped>\n",
       "    .dataframe tbody tr th:only-of-type {\n",
       "        vertical-align: middle;\n",
       "    }\n",
       "\n",
       "    .dataframe tbody tr th {\n",
       "        vertical-align: top;\n",
       "    }\n",
       "\n",
       "    .dataframe thead th {\n",
       "        text-align: right;\n",
       "    }\n",
       "</style>\n",
       "<table border=\"1\" class=\"dataframe\">\n",
       "  <thead>\n",
       "    <tr style=\"text-align: right;\">\n",
       "      <th></th>\n",
       "      <th>cif_id</th>\n",
       "      <th>dlk_cob_date</th>\n",
       "      <th>gi_smooth_3m</th>\n",
       "      <th>big_city</th>\n",
       "      <th>cu_gender</th>\n",
       "      <th>cu_education_level</th>\n",
       "      <th>cu_empl_area</th>\n",
       "      <th>cu_empl_level</th>\n",
       "      <th>payroll_f</th>\n",
       "      <th>cur_quantity_pl</th>\n",
       "      <th>...</th>\n",
       "      <th>active</th>\n",
       "      <th>standalone_dc_f</th>\n",
       "      <th>standalone_payroll_dc_f</th>\n",
       "      <th>standalone_nonpayroll_dc_f</th>\n",
       "      <th>salary</th>\n",
       "      <th>cu_age</th>\n",
       "      <th>cu_mob</th>\n",
       "      <th>cu_empl_cur_dur_m</th>\n",
       "      <th>is_married</th>\n",
       "      <th>cu_eduaction_level</th>\n",
       "    </tr>\n",
       "  </thead>\n",
       "  <tbody>\n",
       "    <tr>\n",
       "      <th>0</th>\n",
       "      <td>335992</td>\n",
       "      <td>2018-06-30</td>\n",
       "      <td>17.957530</td>\n",
       "      <td>MLN</td>\n",
       "      <td>0</td>\n",
       "      <td>02. Среднее профессиональное</td>\n",
       "      <td>ТОРГОВЛЯ</td>\n",
       "      <td>SUPPORT STAFF</td>\n",
       "      <td>0</td>\n",
       "      <td>1</td>\n",
       "      <td>...</td>\n",
       "      <td>1</td>\n",
       "      <td>0</td>\n",
       "      <td>0</td>\n",
       "      <td>0</td>\n",
       "      <td>1192.8</td>\n",
       "      <td>29.0</td>\n",
       "      <td>144</td>\n",
       "      <td>46.0</td>\n",
       "      <td>1</td>\n",
       "      <td>2</td>\n",
       "    </tr>\n",
       "    <tr>\n",
       "      <th>1</th>\n",
       "      <td>335992</td>\n",
       "      <td>2018-04-30</td>\n",
       "      <td>27.720918</td>\n",
       "      <td>MLN</td>\n",
       "      <td>0</td>\n",
       "      <td>02. Среднее профессиональное</td>\n",
       "      <td>ТОРГОВЛЯ</td>\n",
       "      <td>SUPPORT STAFF</td>\n",
       "      <td>0</td>\n",
       "      <td>1</td>\n",
       "      <td>...</td>\n",
       "      <td>1</td>\n",
       "      <td>0</td>\n",
       "      <td>0</td>\n",
       "      <td>0</td>\n",
       "      <td>1192.8</td>\n",
       "      <td>29.0</td>\n",
       "      <td>142</td>\n",
       "      <td>44.0</td>\n",
       "      <td>1</td>\n",
       "      <td>2</td>\n",
       "    </tr>\n",
       "    <tr>\n",
       "      <th>2</th>\n",
       "      <td>335992</td>\n",
       "      <td>2018-05-31</td>\n",
       "      <td>21.949626</td>\n",
       "      <td>MLN</td>\n",
       "      <td>0</td>\n",
       "      <td>02. Среднее профессиональное</td>\n",
       "      <td>ТОРГОВЛЯ</td>\n",
       "      <td>SUPPORT STAFF</td>\n",
       "      <td>0</td>\n",
       "      <td>1</td>\n",
       "      <td>...</td>\n",
       "      <td>1</td>\n",
       "      <td>0</td>\n",
       "      <td>0</td>\n",
       "      <td>0</td>\n",
       "      <td>1192.8</td>\n",
       "      <td>29.0</td>\n",
       "      <td>143</td>\n",
       "      <td>45.0</td>\n",
       "      <td>1</td>\n",
       "      <td>2</td>\n",
       "    </tr>\n",
       "    <tr>\n",
       "      <th>3</th>\n",
       "      <td>335992</td>\n",
       "      <td>2018-08-31</td>\n",
       "      <td>14.855459</td>\n",
       "      <td>MLN</td>\n",
       "      <td>0</td>\n",
       "      <td>02. Среднее профессиональное</td>\n",
       "      <td>ТОРГОВЛЯ</td>\n",
       "      <td>SUPPORT STAFF</td>\n",
       "      <td>0</td>\n",
       "      <td>1</td>\n",
       "      <td>...</td>\n",
       "      <td>1</td>\n",
       "      <td>0</td>\n",
       "      <td>0</td>\n",
       "      <td>0</td>\n",
       "      <td>1192.8</td>\n",
       "      <td>29.0</td>\n",
       "      <td>146</td>\n",
       "      <td>48.0</td>\n",
       "      <td>1</td>\n",
       "      <td>2</td>\n",
       "    </tr>\n",
       "    <tr>\n",
       "      <th>4</th>\n",
       "      <td>335992</td>\n",
       "      <td>2018-03-31</td>\n",
       "      <td>27.917161</td>\n",
       "      <td>MLN</td>\n",
       "      <td>0</td>\n",
       "      <td>02. Среднее профессиональное</td>\n",
       "      <td>ТОРГОВЛЯ</td>\n",
       "      <td>SUPPORT STAFF</td>\n",
       "      <td>0</td>\n",
       "      <td>1</td>\n",
       "      <td>...</td>\n",
       "      <td>1</td>\n",
       "      <td>0</td>\n",
       "      <td>0</td>\n",
       "      <td>0</td>\n",
       "      <td>1192.8</td>\n",
       "      <td>29.0</td>\n",
       "      <td>141</td>\n",
       "      <td>43.0</td>\n",
       "      <td>1</td>\n",
       "      <td>2</td>\n",
       "    </tr>\n",
       "  </tbody>\n",
       "</table>\n",
       "<p>5 rows × 46 columns</p>\n",
       "</div>"
      ],
      "text/plain": [
       "   cif_id dlk_cob_date  gi_smooth_3m big_city  cu_gender  \\\n",
       "0  335992   2018-06-30     17.957530      MLN          0   \n",
       "1  335992   2018-04-30     27.720918      MLN          0   \n",
       "2  335992   2018-05-31     21.949626      MLN          0   \n",
       "3  335992   2018-08-31     14.855459      MLN          0   \n",
       "4  335992   2018-03-31     27.917161      MLN          0   \n",
       "\n",
       "             cu_education_level cu_empl_area  cu_empl_level  payroll_f  \\\n",
       "0  02. Среднее профессиональное     ТОРГОВЛЯ  SUPPORT STAFF          0   \n",
       "1  02. Среднее профессиональное     ТОРГОВЛЯ  SUPPORT STAFF          0   \n",
       "2  02. Среднее профессиональное     ТОРГОВЛЯ  SUPPORT STAFF          0   \n",
       "3  02. Среднее профессиональное     ТОРГОВЛЯ  SUPPORT STAFF          0   \n",
       "4  02. Среднее профессиональное     ТОРГОВЛЯ  SUPPORT STAFF          0   \n",
       "\n",
       "   cur_quantity_pl  ...  active  standalone_dc_f  standalone_payroll_dc_f  \\\n",
       "0                1  ...       1                0                        0   \n",
       "1                1  ...       1                0                        0   \n",
       "2                1  ...       1                0                        0   \n",
       "3                1  ...       1                0                        0   \n",
       "4                1  ...       1                0                        0   \n",
       "\n",
       "   standalone_nonpayroll_dc_f  salary  cu_age  cu_mob  cu_empl_cur_dur_m  \\\n",
       "0                           0  1192.8    29.0     144               46.0   \n",
       "1                           0  1192.8    29.0     142               44.0   \n",
       "2                           0  1192.8    29.0     143               45.0   \n",
       "3                           0  1192.8    29.0     146               48.0   \n",
       "4                           0  1192.8    29.0     141               43.0   \n",
       "\n",
       "   is_married  cu_eduaction_level  \n",
       "0           1                   2  \n",
       "1           1                   2  \n",
       "2           1                   2  \n",
       "3           1                   2  \n",
       "4           1                   2  \n",
       "\n",
       "[5 rows x 46 columns]"
      ]
     },
     "execution_count": 7,
     "metadata": {},
     "output_type": "execute_result"
    }
   ],
   "source": [
    "df_train.head()"
   ]
  },
  {
   "cell_type": "code",
   "execution_count": 8,
   "metadata": {},
   "outputs": [
    {
     "data": {
      "text/plain": [
       "396576"
      ]
     },
     "execution_count": 8,
     "metadata": {},
     "output_type": "execute_result"
    }
   ],
   "source": [
    "df_train['cif_id'].nunique()"
   ]
  },
  {
   "cell_type": "code",
   "execution_count": 9,
   "metadata": {},
   "outputs": [
    {
     "data": {
      "text/plain": [
       "(4161783, 46)"
      ]
     },
     "execution_count": 9,
     "metadata": {},
     "output_type": "execute_result"
    }
   ],
   "source": [
    "df_train.shape"
   ]
  },
  {
   "cell_type": "code",
   "execution_count": 12,
   "metadata": {},
   "outputs": [],
   "source": [
    "df_train['dlk_cob_date'] = pd.to_datetime(df_train['dlk_cob_date'], yearfirst=True)"
   ]
  },
  {
   "cell_type": "code",
   "execution_count": 13,
   "metadata": {},
   "outputs": [],
   "source": [
    "df_train.sort_values(['cif_id', 'dlk_cob_date'], inplace=True)"
   ]
  },
  {
   "cell_type": "code",
   "execution_count": 15,
   "metadata": {},
   "outputs": [],
   "source": [
    "grouped = df_train.groupby(by='cif_id').count()"
   ]
  },
  {
   "cell_type": "code",
   "execution_count": 23,
   "metadata": {},
   "outputs": [],
   "source": [
    "only_12 = grouped[grouped['dlk_cob_date'] != 12]"
   ]
  },
  {
   "cell_type": "code",
   "execution_count": 25,
   "metadata": {},
   "outputs": [],
   "source": [
    "unstable_users = only_12.index"
   ]
  },
  {
   "cell_type": "code",
   "execution_count": 26,
   "metadata": {},
   "outputs": [
    {
     "data": {
      "text/plain": [
       "Int64Index([  1014,   1020,   1021,   1030,   1031,   1035,   1038,   1048,\n",
       "              1055,   1060,\n",
       "            ...\n",
       "            511497, 511500, 511501, 511506, 511510, 511514, 511517, 511520,\n",
       "            511526, 511535],\n",
       "           dtype='int64', name='cif_id', length=96885)"
      ]
     },
     "execution_count": 26,
     "metadata": {},
     "output_type": "execute_result"
    }
   ],
   "source": [
    "unstable_users"
   ]
  },
  {
   "cell_type": "code",
   "execution_count": 21,
   "metadata": {},
   "outputs": [
    {
     "data": {
      "text/plain": [
       "count    396576.000000\n",
       "mean         10.494289\n",
       "std           3.076219\n",
       "min           1.000000\n",
       "25%          12.000000\n",
       "50%          12.000000\n",
       "75%          12.000000\n",
       "max          12.000000\n",
       "Name: dlk_cob_date, dtype: float64"
      ]
     },
     "execution_count": 21,
     "metadata": {},
     "output_type": "execute_result"
    }
   ],
   "source": [
    "grouped['dlk_cob_date'].describe()"
   ]
  },
  {
   "cell_type": "code",
   "execution_count": 22,
   "metadata": {},
   "outputs": [
    {
     "data": {
      "text/plain": [
       "array(['MLN', 'OTH', 'MSK', 'SPB'], dtype=object)"
      ]
     },
     "execution_count": 22,
     "metadata": {},
     "output_type": "execute_result"
    }
   ],
   "source": [
    "df_train['big_city'].unique()"
   ]
  },
  {
   "cell_type": "code",
   "execution_count": 29,
   "metadata": {},
   "outputs": [],
   "source": [
    "target = df_train[df_train['dlk_cob_date'] >= '2018-07-01'][['cif_id', 'gi_smooth_3m']].groupby('cif_id').sum()"
   ]
  },
  {
   "cell_type": "code",
   "execution_count": 33,
   "metadata": {},
   "outputs": [],
   "source": [
    "df_train = df_train[df_train['dlk_cob_date'] < '2018-07-01']"
   ]
  },
  {
   "cell_type": "code",
   "execution_count": 35,
   "metadata": {},
   "outputs": [],
   "source": [
    "df_train = pd.merge(df_train, target, how='left', left_on='cif_id', right_index=True)"
   ]
  },
  {
   "cell_type": "code",
   "execution_count": 38,
   "metadata": {},
   "outputs": [
    {
     "data": {
      "text/html": [
       "<div>\n",
       "<style scoped>\n",
       "    .dataframe tbody tr th:only-of-type {\n",
       "        vertical-align: middle;\n",
       "    }\n",
       "\n",
       "    .dataframe tbody tr th {\n",
       "        vertical-align: top;\n",
       "    }\n",
       "\n",
       "    .dataframe thead th {\n",
       "        text-align: right;\n",
       "    }\n",
       "</style>\n",
       "<table border=\"1\" class=\"dataframe\">\n",
       "  <thead>\n",
       "    <tr style=\"text-align: right;\">\n",
       "      <th></th>\n",
       "      <th>cif_id</th>\n",
       "      <th>dlk_cob_date</th>\n",
       "      <th>gi_smooth_3m_x</th>\n",
       "      <th>big_city</th>\n",
       "      <th>cu_gender</th>\n",
       "      <th>cu_education_level</th>\n",
       "      <th>cu_empl_area</th>\n",
       "      <th>cu_empl_level</th>\n",
       "      <th>payroll_f</th>\n",
       "      <th>cur_quantity_pl</th>\n",
       "      <th>...</th>\n",
       "      <th>standalone_dc_f</th>\n",
       "      <th>standalone_payroll_dc_f</th>\n",
       "      <th>standalone_nonpayroll_dc_f</th>\n",
       "      <th>salary</th>\n",
       "      <th>cu_age</th>\n",
       "      <th>cu_mob</th>\n",
       "      <th>cu_empl_cur_dur_m</th>\n",
       "      <th>is_married</th>\n",
       "      <th>cu_eduaction_level</th>\n",
       "      <th>gi_smooth_3m_y</th>\n",
       "    </tr>\n",
       "  </thead>\n",
       "  <tbody>\n",
       "    <tr>\n",
       "      <th>1342694</th>\n",
       "      <td>1001</td>\n",
       "      <td>2018-01-31</td>\n",
       "      <td>70.994186</td>\n",
       "      <td>MLN</td>\n",
       "      <td>1</td>\n",
       "      <td>02. Среднее профессиональное</td>\n",
       "      <td>Строительство, недвижимость</td>\n",
       "      <td>SUPPORT STAFF</td>\n",
       "      <td>0</td>\n",
       "      <td>1</td>\n",
       "      <td>...</td>\n",
       "      <td>0</td>\n",
       "      <td>0</td>\n",
       "      <td>0</td>\n",
       "      <td>1051.2</td>\n",
       "      <td>56.0</td>\n",
       "      <td>121</td>\n",
       "      <td>123.0</td>\n",
       "      <td>1</td>\n",
       "      <td>2</td>\n",
       "      <td>322.283363</td>\n",
       "    </tr>\n",
       "    <tr>\n",
       "      <th>1342693</th>\n",
       "      <td>1001</td>\n",
       "      <td>2018-02-28</td>\n",
       "      <td>-6.005108</td>\n",
       "      <td>MLN</td>\n",
       "      <td>1</td>\n",
       "      <td>02. Среднее профессиональное</td>\n",
       "      <td>Строительство, недвижимость</td>\n",
       "      <td>SUPPORT STAFF</td>\n",
       "      <td>0</td>\n",
       "      <td>1</td>\n",
       "      <td>...</td>\n",
       "      <td>0</td>\n",
       "      <td>0</td>\n",
       "      <td>0</td>\n",
       "      <td>1051.2</td>\n",
       "      <td>56.0</td>\n",
       "      <td>122</td>\n",
       "      <td>124.0</td>\n",
       "      <td>1</td>\n",
       "      <td>2</td>\n",
       "      <td>322.283363</td>\n",
       "    </tr>\n",
       "    <tr>\n",
       "      <th>1342691</th>\n",
       "      <td>1001</td>\n",
       "      <td>2018-03-31</td>\n",
       "      <td>114.989605</td>\n",
       "      <td>MLN</td>\n",
       "      <td>1</td>\n",
       "      <td>02. Среднее профессиональное</td>\n",
       "      <td>Строительство, недвижимость</td>\n",
       "      <td>SUPPORT STAFF</td>\n",
       "      <td>0</td>\n",
       "      <td>0</td>\n",
       "      <td>...</td>\n",
       "      <td>0</td>\n",
       "      <td>0</td>\n",
       "      <td>0</td>\n",
       "      <td>1051.2</td>\n",
       "      <td>56.0</td>\n",
       "      <td>123</td>\n",
       "      <td>125.0</td>\n",
       "      <td>1</td>\n",
       "      <td>2</td>\n",
       "      <td>322.283363</td>\n",
       "    </tr>\n",
       "    <tr>\n",
       "      <th>1342690</th>\n",
       "      <td>1001</td>\n",
       "      <td>2018-04-30</td>\n",
       "      <td>147.408528</td>\n",
       "      <td>MLN</td>\n",
       "      <td>1</td>\n",
       "      <td>02. Среднее профессиональное</td>\n",
       "      <td>Строительство, недвижимость</td>\n",
       "      <td>SUPPORT STAFF</td>\n",
       "      <td>0</td>\n",
       "      <td>0</td>\n",
       "      <td>...</td>\n",
       "      <td>0</td>\n",
       "      <td>0</td>\n",
       "      <td>0</td>\n",
       "      <td>1051.2</td>\n",
       "      <td>56.0</td>\n",
       "      <td>124</td>\n",
       "      <td>126.0</td>\n",
       "      <td>1</td>\n",
       "      <td>2</td>\n",
       "      <td>322.283363</td>\n",
       "    </tr>\n",
       "    <tr>\n",
       "      <th>1342692</th>\n",
       "      <td>1001</td>\n",
       "      <td>2018-05-31</td>\n",
       "      <td>185.987934</td>\n",
       "      <td>MLN</td>\n",
       "      <td>1</td>\n",
       "      <td>02. Среднее профессиональное</td>\n",
       "      <td>Строительство, недвижимость</td>\n",
       "      <td>SUPPORT STAFF</td>\n",
       "      <td>0</td>\n",
       "      <td>0</td>\n",
       "      <td>...</td>\n",
       "      <td>0</td>\n",
       "      <td>0</td>\n",
       "      <td>0</td>\n",
       "      <td>1051.2</td>\n",
       "      <td>56.0</td>\n",
       "      <td>125</td>\n",
       "      <td>127.0</td>\n",
       "      <td>1</td>\n",
       "      <td>2</td>\n",
       "      <td>322.283363</td>\n",
       "    </tr>\n",
       "  </tbody>\n",
       "</table>\n",
       "<p>5 rows × 47 columns</p>\n",
       "</div>"
      ],
      "text/plain": [
       "         cif_id dlk_cob_date  gi_smooth_3m_x big_city  cu_gender  \\\n",
       "1342694    1001   2018-01-31       70.994186      MLN          1   \n",
       "1342693    1001   2018-02-28       -6.005108      MLN          1   \n",
       "1342691    1001   2018-03-31      114.989605      MLN          1   \n",
       "1342690    1001   2018-04-30      147.408528      MLN          1   \n",
       "1342692    1001   2018-05-31      185.987934      MLN          1   \n",
       "\n",
       "                   cu_education_level                 cu_empl_area  \\\n",
       "1342694  02. Среднее профессиональное  Строительство, недвижимость   \n",
       "1342693  02. Среднее профессиональное  Строительство, недвижимость   \n",
       "1342691  02. Среднее профессиональное  Строительство, недвижимость   \n",
       "1342690  02. Среднее профессиональное  Строительство, недвижимость   \n",
       "1342692  02. Среднее профессиональное  Строительство, недвижимость   \n",
       "\n",
       "         cu_empl_level  payroll_f  cur_quantity_pl  ...  standalone_dc_f  \\\n",
       "1342694  SUPPORT STAFF          0                1  ...                0   \n",
       "1342693  SUPPORT STAFF          0                1  ...                0   \n",
       "1342691  SUPPORT STAFF          0                0  ...                0   \n",
       "1342690  SUPPORT STAFF          0                0  ...                0   \n",
       "1342692  SUPPORT STAFF          0                0  ...                0   \n",
       "\n",
       "         standalone_payroll_dc_f  standalone_nonpayroll_dc_f  salary  cu_age  \\\n",
       "1342694                        0                           0  1051.2    56.0   \n",
       "1342693                        0                           0  1051.2    56.0   \n",
       "1342691                        0                           0  1051.2    56.0   \n",
       "1342690                        0                           0  1051.2    56.0   \n",
       "1342692                        0                           0  1051.2    56.0   \n",
       "\n",
       "         cu_mob  cu_empl_cur_dur_m  is_married  cu_eduaction_level  \\\n",
       "1342694     121              123.0           1                   2   \n",
       "1342693     122              124.0           1                   2   \n",
       "1342691     123              125.0           1                   2   \n",
       "1342690     124              126.0           1                   2   \n",
       "1342692     125              127.0           1                   2   \n",
       "\n",
       "         gi_smooth_3m_y  \n",
       "1342694      322.283363  \n",
       "1342693      322.283363  \n",
       "1342691      322.283363  \n",
       "1342690      322.283363  \n",
       "1342692      322.283363  \n",
       "\n",
       "[5 rows x 47 columns]"
      ]
     },
     "execution_count": 38,
     "metadata": {},
     "output_type": "execute_result"
    }
   ],
   "source": [
    "df_train.head()"
   ]
  },
  {
   "cell_type": "code",
   "execution_count": 37,
   "metadata": {},
   "outputs": [
    {
     "data": {
      "text/plain": [
       "array(['02. Среднее профессиональное', '03. Высшее', '01. Среднее', nan,\n",
       "       '04. Второе высшее, ученая степень'], dtype=object)"
      ]
     },
     "execution_count": 37,
     "metadata": {},
     "output_type": "execute_result"
    }
   ],
   "source": [
    "df_train['cu_education_level'].unique()"
   ]
  },
  {
   "cell_type": "code",
   "execution_count": 39,
   "metadata": {},
   "outputs": [
    {
     "data": {
      "text/plain": [
       "array(['SUPPORT STAFF', 'BLUE COLLAR STAFF', '03', 'TRADE REPRESENTATIVE',\n",
       "       'QUALIFIED STAFF', nan, 'MIDDLE MANAGEMENT', 'SALES MANAGER', '01',\n",
       "       'SENIOR MANAGEMENT', 'Self-employed', '02', 'INSURANCE AGENT',\n",
       "       'Other', '06', 'SELF-EMPLOYED', 'OTHER', '04', '05',\n",
       "       'начальник отдела продаж', 'АО ТПК', 'начальник отдела', '-',\n",
       "       'пРОДАВЕЦ-КОНСУЛЬТАНТ', 'ассистент', 'Other - учащаяся',\n",
       "       'Директор'], dtype=object)"
      ]
     },
     "execution_count": 39,
     "metadata": {},
     "output_type": "execute_result"
    }
   ],
   "source": [
    "df_train['cu_empl_level'].unique()"
   ]
  },
  {
   "cell_type": "code",
   "execution_count": 40,
   "metadata": {},
   "outputs": [
    {
     "data": {
      "text/plain": [
       "array(['Строительство, недвижимость', 'ДРУГОЕ',\n",
       "       'ПРОИЗВОДСТВО, ДОБЫВАЮЩАЯ ПРОМЫШЛЕННОСТЬ',\n",
       "       'ИНФОРМАЦИОННЫЕ ТЕХНОЛОГИИ', 'ТОРГОВЛЯ', 'ЗДРАВООХРАНЕНИЕ', nan,\n",
       "       'Туризм, развлечения, ресторанный бизнес',\n",
       "       'Финансы, управляющие компании, банки', 'ТРАНСПОРТ, ЛОГИСТИКА',\n",
       "       'PR, маркетинг, СМИ', 'Наука, образование', 'СТРАХОВАНИЕ',\n",
       "       'Государственная служба', 'ЮРИДИЧЕСКИЕ УСЛУГИ', 'услуги, торговля',\n",
       "       'проектирование и электромонтаж', 'spassoff@mail.ru',\n",
       "       'Инвестиционная', 'Медицинская', 'индустрия развлечения',\n",
       "       'ТУРИЗМ, РАЗВЛЕЧЕНИЯ, РЕСТОРАННЫЙ БИЗНЕС',\n",
       "       'Автогрузовые перевозки', 'Подбор персонала',\n",
       "       'Турбостроение-машиностроение', 'Издательский дом',\n",
       "       'Торговля косметикой', 'торговля бытовой техникой', 'Unemployed',\n",
       "       'опт.торговля', 'СТРОИТЕЛЬСТВО, НЕДВИЖИМОСТЬ',\n",
       "       'строительство, IT, энергоснабжение', 'Системы безопасности',\n",
       "       'Сдача в аренду', 'PR, МАРКЕТИНГ, СМИ',\n",
       "       'сетевое рекламное агентство', '-', 'Мобильная связь',\n",
       "       'Про-во и продажа дорожностроительн.техники', 'табачная фабрика',\n",
       "       'Сдача нежилого помещения в аренду', 'экология',\n",
       "       'торговая организация', 'проектирование, землеустройство',\n",
       "       'Международные перевозки', 'Перевозки грузов',\n",
       "       'производство и продажа звукового оборудования',\n",
       "       'НАУКА, ОБРАЗОВАНИЕ', 'Поставка строительного оборудования',\n",
       "       'балет', 'перекачка нефти', 'Ветеринарная деятельность',\n",
       "       'торговля продуктами питания', 'агенстство по подбору персонала',\n",
       "       'продажа строитель. техники', 'бухгалтерское обслуживание',\n",
       "       'Фармацевтика (производство)', 'гражд.авиация',\n",
       "       'Автоматизация промышленных предприятий', 'девелопмент',\n",
       "       'производство и продажа кондитерских изделий',\n",
       "       'сервисная нефтяная компания',\n",
       "       'Оптовая торговля черными и цвет.металлами', 'Дизайн и реклама',\n",
       "       'Информационные услуги (справочная служба)',\n",
       "       'Столярное производство', 'Сдача в аренду (недвижимости, техники)',\n",
       "       'ресторан', 'Инженерно-техническое предприятие',\n",
       "       'торговля нефтепродуктами', 'деревообработка',\n",
       "       'производство сувениров', 'АЗС', 'аренда, консультации',\n",
       "       'Атомная энергетика', 'Другое охрана', 'Авиасервис',\n",
       "       'Производство, строй конструкция', 'Агентская деятельность',\n",
       "       'ЮРИДИЧЕСКИЕ И ПАТЕНТНЫЕ УСЛУГИ', 'дизайн-полиграфия',\n",
       "       'Торговля металлопродукцией', 'поставка насосного оборудования',\n",
       "       'Продажа и сервис авто', 'ФИНАНСЫ, УПРАВЛЯЮЩИЕ КОМПАНИИ, БАНКИ',\n",
       "       'спорт, обучение', 'Нанотехнологии', 'Некоммерческое партнерство',\n",
       "       'такси', 'дистрибуция сетевого оборудования',\n",
       "       'Строительство и ремонт',\n",
       "       'системы безопасности, инженерные системы', 'Общетсвенное питание',\n",
       "       'Автомойка', 'обслуживание техники', 'Теплоэнергия',\n",
       "       'Вывоз мусора', 'радиостанция', 'Обслуживание органов гос. вдасти',\n",
       "       'продажа металла', 'Спутниковая связь', 'Рекламное агенство',\n",
       "       'Музеи, искусства', 'Сеть аптек', 'Промышленность',\n",
       "       'аренда недвижимости',\n",
       "       'оптовая торговля сантехническим оборудованием',\n",
       "       'передача электроэнергии, сдача помещений в аренду',\n",
       "       'производство, продажа', 'косалтинг', 'Берингер',\n",
       "       'интернет-агентство', 'Поставка и монтаж электрооборудования',\n",
       "       'Услуги охраны', 'изыскательские работы', 'дистрибьютор',\n",
       "       'международная торговля', 'торговля, продажа автомобилей и сервис',\n",
       "       'Питание', 'сырьевая промышленность',\n",
       "       'световое, звуковое оборудование', 'ж/д транспорт', 'Ночной клуб'],\n",
       "      dtype=object)"
      ]
     },
     "execution_count": 40,
     "metadata": {},
     "output_type": "execute_result"
    }
   ],
   "source": [
    "df_train['cu_empl_area'].unique()"
   ]
  },
  {
   "cell_type": "code",
   "execution_count": 41,
   "metadata": {},
   "outputs": [],
   "source": [
    "def MAPE(y_true, y_pred):\n",
    "    error = np.abs((y_true - y_pred) / y_true)\n",
    "    return np.mean(error)"
   ]
  }
 ],
 "metadata": {
  "kernelspec": {
   "display_name": "Python 3",
   "language": "python",
   "name": "python3"
  },
  "language_info": {
   "codemirror_mode": {
    "name": "ipython",
    "version": 3
   },
   "file_extension": ".py",
   "mimetype": "text/x-python",
   "name": "python",
   "nbconvert_exporter": "python",
   "pygments_lexer": "ipython3",
   "version": "3.7.3"
  }
 },
 "nbformat": 4,
 "nbformat_minor": 2
}
