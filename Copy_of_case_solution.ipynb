{
  "nbformat": 4,
  "nbformat_minor": 0,
  "metadata": {
    "kernelspec": {
      "name": "python3",
      "display_name": "Python 3"
    },
    "language_info": {
      "codemirror_mode": {
        "name": "ipython",
        "version": 3
      },
      "file_extension": ".py",
      "mimetype": "text/x-python",
      "name": "python",
      "nbconvert_exporter": "python",
      "pygments_lexer": "ipython3",
      "version": "3.7.3"
    },
    "colab": {
      "name": "Copy of case_solution.ipynb",
      "provenance": [],
      "collapsed_sections": [],
      "machine_shape": "hm"
    },
    "accelerator": "GPU"
  },
  "cells": [
    {
      "cell_type": "code",
      "metadata": {
        "id": "5CqIuudQzV_R",
        "colab_type": "code",
        "colab": {}
      },
      "source": [
        "import numpy as np\n",
        "import pandas as pd"
      ],
      "execution_count": 0,
      "outputs": []
    },
    {
      "cell_type": "code",
      "metadata": {
        "id": "BV3ihi370Ivw",
        "colab_type": "code",
        "outputId": "c2480333-d187-4dda-9f1f-a7db25f6c10b",
        "colab": {
          "base_uri": "https://localhost:8080/",
          "height": 54
        }
      },
      "source": [
        "from google.colab import drive\n",
        "drive.mount('/content/drive')"
      ],
      "execution_count": 0,
      "outputs": [
        {
          "output_type": "stream",
          "text": [
            "Drive already mounted at /content/drive; to attempt to forcibly remount, call drive.mount(\"/content/drive\", force_remount=True).\n"
          ],
          "name": "stdout"
        }
      ]
    },
    {
      "cell_type": "code",
      "metadata": {
        "id": "Lu6b2jZ5zV_n",
        "colab_type": "code",
        "colab": {}
      },
      "source": [
        "df_train = pd.read_csv('/content/drive/My Drive/CL_Cup IT 2020_DS_1 тур/CUP_IT_train_data.csv', sep=',', skiprows=133)"
      ],
      "execution_count": 0,
      "outputs": []
    },
    {
      "cell_type": "code",
      "metadata": {
        "id": "mG7TPscuzV_w",
        "colab_type": "code",
        "outputId": "52a8531c-49f3-4898-a392-aaecd119ec5a",
        "colab": {
          "base_uri": "https://localhost:8080/",
          "height": 309
        }
      },
      "source": [
        "df_train.head()"
      ],
      "execution_count": 0,
      "outputs": [
        {
          "output_type": "execute_result",
          "data": {
            "text/html": [
              "<div>\n",
              "<style scoped>\n",
              "    .dataframe tbody tr th:only-of-type {\n",
              "        vertical-align: middle;\n",
              "    }\n",
              "\n",
              "    .dataframe tbody tr th {\n",
              "        vertical-align: top;\n",
              "    }\n",
              "\n",
              "    .dataframe thead th {\n",
              "        text-align: right;\n",
              "    }\n",
              "</style>\n",
              "<table border=\"1\" class=\"dataframe\">\n",
              "  <thead>\n",
              "    <tr style=\"text-align: right;\">\n",
              "      <th></th>\n",
              "      <th>cif_id</th>\n",
              "      <th>dlk_cob_date</th>\n",
              "      <th>gi_smooth_3m</th>\n",
              "      <th>big_city</th>\n",
              "      <th>cu_gender</th>\n",
              "      <th>cu_education_level</th>\n",
              "      <th>cu_empl_area</th>\n",
              "      <th>cu_empl_level</th>\n",
              "      <th>payroll_f</th>\n",
              "      <th>cur_quantity_pl</th>\n",
              "      <th>cur_quantity_mort</th>\n",
              "      <th>cur_quantity_cc</th>\n",
              "      <th>cur_quantity_deposits</th>\n",
              "      <th>cur_quantity_dc</th>\n",
              "      <th>cur_quantity_accounts</th>\n",
              "      <th>cur_quantity_saccounts</th>\n",
              "      <th>cur_quantity_mf</th>\n",
              "      <th>cc_balance</th>\n",
              "      <th>cl_balance</th>\n",
              "      <th>ml_balance</th>\n",
              "      <th>pl_balance</th>\n",
              "      <th>td_volume</th>\n",
              "      <th>ca_volume</th>\n",
              "      <th>sa_volume</th>\n",
              "      <th>mf_volume</th>\n",
              "      <th>dc_cash_spend_v</th>\n",
              "      <th>dc_cash_spend_c</th>\n",
              "      <th>cc_cash_spend_v</th>\n",
              "      <th>cc_cash_spend_c</th>\n",
              "      <th>dc_pos_spend_v</th>\n",
              "      <th>dc_pos_spend_c</th>\n",
              "      <th>cc_pos_spend_v</th>\n",
              "      <th>cc_pos_spend_c</th>\n",
              "      <th>ca_f</th>\n",
              "      <th>rc_session_qnt_cur_mon</th>\n",
              "      <th>cur_qnt_sms</th>\n",
              "      <th>active</th>\n",
              "      <th>standalone_dc_f</th>\n",
              "      <th>standalone_payroll_dc_f</th>\n",
              "      <th>standalone_nonpayroll_dc_f</th>\n",
              "      <th>salary</th>\n",
              "      <th>cu_age</th>\n",
              "      <th>cu_mob</th>\n",
              "      <th>cu_empl_cur_dur_m</th>\n",
              "      <th>is_married</th>\n",
              "      <th>cu_eduaction_level</th>\n",
              "    </tr>\n",
              "  </thead>\n",
              "  <tbody>\n",
              "    <tr>\n",
              "      <th>0</th>\n",
              "      <td>335992</td>\n",
              "      <td>2018-06-30</td>\n",
              "      <td>17.957530</td>\n",
              "      <td>MLN</td>\n",
              "      <td>0</td>\n",
              "      <td>02. Среднее профессиональное</td>\n",
              "      <td>ТОРГОВЛЯ</td>\n",
              "      <td>SUPPORT STAFF</td>\n",
              "      <td>0</td>\n",
              "      <td>1</td>\n",
              "      <td>0</td>\n",
              "      <td>0</td>\n",
              "      <td>0</td>\n",
              "      <td>1</td>\n",
              "      <td>1</td>\n",
              "      <td>0</td>\n",
              "      <td>0</td>\n",
              "      <td>NaN</td>\n",
              "      <td>NaN</td>\n",
              "      <td>NaN</td>\n",
              "      <td>-1700.60184</td>\n",
              "      <td>NaN</td>\n",
              "      <td>4.62528</td>\n",
              "      <td>NaN</td>\n",
              "      <td>NaN</td>\n",
              "      <td>0.0</td>\n",
              "      <td>0</td>\n",
              "      <td>0.0</td>\n",
              "      <td>0</td>\n",
              "      <td>10.41888</td>\n",
              "      <td>3</td>\n",
              "      <td>0.0</td>\n",
              "      <td>0</td>\n",
              "      <td>1</td>\n",
              "      <td>0</td>\n",
              "      <td>1.0</td>\n",
              "      <td>1</td>\n",
              "      <td>0</td>\n",
              "      <td>0</td>\n",
              "      <td>0</td>\n",
              "      <td>1192.8</td>\n",
              "      <td>29.0</td>\n",
              "      <td>144</td>\n",
              "      <td>46.0</td>\n",
              "      <td>1</td>\n",
              "      <td>2</td>\n",
              "    </tr>\n",
              "    <tr>\n",
              "      <th>1</th>\n",
              "      <td>335992</td>\n",
              "      <td>2018-04-30</td>\n",
              "      <td>27.720918</td>\n",
              "      <td>MLN</td>\n",
              "      <td>0</td>\n",
              "      <td>02. Среднее профессиональное</td>\n",
              "      <td>ТОРГОВЛЯ</td>\n",
              "      <td>SUPPORT STAFF</td>\n",
              "      <td>0</td>\n",
              "      <td>1</td>\n",
              "      <td>0</td>\n",
              "      <td>0</td>\n",
              "      <td>0</td>\n",
              "      <td>1</td>\n",
              "      <td>1</td>\n",
              "      <td>0</td>\n",
              "      <td>0</td>\n",
              "      <td>NaN</td>\n",
              "      <td>NaN</td>\n",
              "      <td>NaN</td>\n",
              "      <td>-1911.42936</td>\n",
              "      <td>NaN</td>\n",
              "      <td>300.73056</td>\n",
              "      <td>NaN</td>\n",
              "      <td>NaN</td>\n",
              "      <td>168.0</td>\n",
              "      <td>2</td>\n",
              "      <td>0.0</td>\n",
              "      <td>0</td>\n",
              "      <td>190.21536</td>\n",
              "      <td>14</td>\n",
              "      <td>0.0</td>\n",
              "      <td>0</td>\n",
              "      <td>1</td>\n",
              "      <td>0</td>\n",
              "      <td>1.0</td>\n",
              "      <td>1</td>\n",
              "      <td>0</td>\n",
              "      <td>0</td>\n",
              "      <td>0</td>\n",
              "      <td>1192.8</td>\n",
              "      <td>29.0</td>\n",
              "      <td>142</td>\n",
              "      <td>44.0</td>\n",
              "      <td>1</td>\n",
              "      <td>2</td>\n",
              "    </tr>\n",
              "    <tr>\n",
              "      <th>2</th>\n",
              "      <td>335992</td>\n",
              "      <td>2018-05-31</td>\n",
              "      <td>21.949626</td>\n",
              "      <td>MLN</td>\n",
              "      <td>0</td>\n",
              "      <td>02. Среднее профессиональное</td>\n",
              "      <td>ТОРГОВЛЯ</td>\n",
              "      <td>SUPPORT STAFF</td>\n",
              "      <td>0</td>\n",
              "      <td>1</td>\n",
              "      <td>0</td>\n",
              "      <td>0</td>\n",
              "      <td>0</td>\n",
              "      <td>1</td>\n",
              "      <td>1</td>\n",
              "      <td>0</td>\n",
              "      <td>0</td>\n",
              "      <td>NaN</td>\n",
              "      <td>NaN</td>\n",
              "      <td>NaN</td>\n",
              "      <td>-1807.09176</td>\n",
              "      <td>NaN</td>\n",
              "      <td>13.04472</td>\n",
              "      <td>NaN</td>\n",
              "      <td>NaN</td>\n",
              "      <td>0.0</td>\n",
              "      <td>0</td>\n",
              "      <td>0.0</td>\n",
              "      <td>0</td>\n",
              "      <td>161.63760</td>\n",
              "      <td>16</td>\n",
              "      <td>0.0</td>\n",
              "      <td>0</td>\n",
              "      <td>1</td>\n",
              "      <td>0</td>\n",
              "      <td>1.0</td>\n",
              "      <td>1</td>\n",
              "      <td>0</td>\n",
              "      <td>0</td>\n",
              "      <td>0</td>\n",
              "      <td>1192.8</td>\n",
              "      <td>29.0</td>\n",
              "      <td>143</td>\n",
              "      <td>45.0</td>\n",
              "      <td>1</td>\n",
              "      <td>2</td>\n",
              "    </tr>\n",
              "    <tr>\n",
              "      <th>3</th>\n",
              "      <td>335992</td>\n",
              "      <td>2018-08-31</td>\n",
              "      <td>14.855459</td>\n",
              "      <td>MLN</td>\n",
              "      <td>0</td>\n",
              "      <td>02. Среднее профессиональное</td>\n",
              "      <td>ТОРГОВЛЯ</td>\n",
              "      <td>SUPPORT STAFF</td>\n",
              "      <td>0</td>\n",
              "      <td>1</td>\n",
              "      <td>0</td>\n",
              "      <td>0</td>\n",
              "      <td>0</td>\n",
              "      <td>1</td>\n",
              "      <td>1</td>\n",
              "      <td>0</td>\n",
              "      <td>0</td>\n",
              "      <td>NaN</td>\n",
              "      <td>NaN</td>\n",
              "      <td>NaN</td>\n",
              "      <td>-1484.08752</td>\n",
              "      <td>NaN</td>\n",
              "      <td>0.35184</td>\n",
              "      <td>NaN</td>\n",
              "      <td>NaN</td>\n",
              "      <td>0.0</td>\n",
              "      <td>0</td>\n",
              "      <td>0.0</td>\n",
              "      <td>0</td>\n",
              "      <td>0.00000</td>\n",
              "      <td>0</td>\n",
              "      <td>0.0</td>\n",
              "      <td>0</td>\n",
              "      <td>1</td>\n",
              "      <td>0</td>\n",
              "      <td>1.0</td>\n",
              "      <td>1</td>\n",
              "      <td>0</td>\n",
              "      <td>0</td>\n",
              "      <td>0</td>\n",
              "      <td>1192.8</td>\n",
              "      <td>29.0</td>\n",
              "      <td>146</td>\n",
              "      <td>48.0</td>\n",
              "      <td>1</td>\n",
              "      <td>2</td>\n",
              "    </tr>\n",
              "    <tr>\n",
              "      <th>4</th>\n",
              "      <td>335992</td>\n",
              "      <td>2018-03-31</td>\n",
              "      <td>27.917161</td>\n",
              "      <td>MLN</td>\n",
              "      <td>0</td>\n",
              "      <td>02. Среднее профессиональное</td>\n",
              "      <td>ТОРГОВЛЯ</td>\n",
              "      <td>SUPPORT STAFF</td>\n",
              "      <td>0</td>\n",
              "      <td>1</td>\n",
              "      <td>0</td>\n",
              "      <td>0</td>\n",
              "      <td>0</td>\n",
              "      <td>1</td>\n",
              "      <td>1</td>\n",
              "      <td>0</td>\n",
              "      <td>0</td>\n",
              "      <td>NaN</td>\n",
              "      <td>NaN</td>\n",
              "      <td>NaN</td>\n",
              "      <td>-2015.04648</td>\n",
              "      <td>NaN</td>\n",
              "      <td>793.68216</td>\n",
              "      <td>NaN</td>\n",
              "      <td>NaN</td>\n",
              "      <td>333.6</td>\n",
              "      <td>3</td>\n",
              "      <td>0.0</td>\n",
              "      <td>0</td>\n",
              "      <td>322.27032</td>\n",
              "      <td>28</td>\n",
              "      <td>0.0</td>\n",
              "      <td>0</td>\n",
              "      <td>1</td>\n",
              "      <td>0</td>\n",
              "      <td>1.0</td>\n",
              "      <td>1</td>\n",
              "      <td>0</td>\n",
              "      <td>0</td>\n",
              "      <td>0</td>\n",
              "      <td>1192.8</td>\n",
              "      <td>29.0</td>\n",
              "      <td>141</td>\n",
              "      <td>43.0</td>\n",
              "      <td>1</td>\n",
              "      <td>2</td>\n",
              "    </tr>\n",
              "  </tbody>\n",
              "</table>\n",
              "</div>"
            ],
            "text/plain": [
              "   cif_id dlk_cob_date  ...  is_married cu_eduaction_level\n",
              "0  335992   2018-06-30  ...           1                  2\n",
              "1  335992   2018-04-30  ...           1                  2\n",
              "2  335992   2018-05-31  ...           1                  2\n",
              "3  335992   2018-08-31  ...           1                  2\n",
              "4  335992   2018-03-31  ...           1                  2\n",
              "\n",
              "[5 rows x 46 columns]"
            ]
          },
          "metadata": {
            "tags": []
          },
          "execution_count": 138
        }
      ]
    },
    {
      "cell_type": "code",
      "metadata": {
        "id": "nK4GYaGgzWAT",
        "colab_type": "code",
        "outputId": "87be560c-4bea-4704-866f-8e0c9f820632",
        "colab": {
          "base_uri": "https://localhost:8080/",
          "height": 34
        }
      },
      "source": [
        "df_train['cif_id'].nunique()"
      ],
      "execution_count": 0,
      "outputs": [
        {
          "output_type": "execute_result",
          "data": {
            "text/plain": [
              "396576"
            ]
          },
          "metadata": {
            "tags": []
          },
          "execution_count": 139
        }
      ]
    },
    {
      "cell_type": "code",
      "metadata": {
        "id": "0stairIazWAf",
        "colab_type": "code",
        "outputId": "2477d5f3-34fd-4a49-ab82-65093ae79173",
        "colab": {
          "base_uri": "https://localhost:8080/",
          "height": 34
        }
      },
      "source": [
        "df_train.shape"
      ],
      "execution_count": 0,
      "outputs": [
        {
          "output_type": "execute_result",
          "data": {
            "text/plain": [
              "(4161783, 46)"
            ]
          },
          "metadata": {
            "tags": []
          },
          "execution_count": 140
        }
      ]
    },
    {
      "cell_type": "code",
      "metadata": {
        "id": "HXIJD2umzWAr",
        "colab_type": "code",
        "colab": {}
      },
      "source": [
        "df_train['dlk_cob_date'] = pd.to_datetime(df_train['dlk_cob_date'], yearfirst=True)"
      ],
      "execution_count": 0,
      "outputs": []
    },
    {
      "cell_type": "code",
      "metadata": {
        "id": "JtOa1V1azWA9",
        "colab_type": "code",
        "colab": {}
      },
      "source": [
        "df_train.sort_values(['cif_id', 'dlk_cob_date'], inplace=True)"
      ],
      "execution_count": 0,
      "outputs": []
    },
    {
      "cell_type": "code",
      "metadata": {
        "id": "fnDuE8sPzWBG",
        "colab_type": "code",
        "colab": {}
      },
      "source": [
        "grouped = df_train.groupby(by='cif_id').count()"
      ],
      "execution_count": 0,
      "outputs": []
    },
    {
      "cell_type": "code",
      "metadata": {
        "id": "MEYpvSjEzWBS",
        "colab_type": "code",
        "colab": {}
      },
      "source": [
        "only_12 = grouped[grouped['dlk_cob_date'] != 12]"
      ],
      "execution_count": 0,
      "outputs": []
    },
    {
      "cell_type": "code",
      "metadata": {
        "id": "KgmzAWabzWBe",
        "colab_type": "code",
        "colab": {}
      },
      "source": [
        "unstable_users = only_12.index"
      ],
      "execution_count": 0,
      "outputs": []
    },
    {
      "cell_type": "code",
      "metadata": {
        "id": "uXNUQmSizWBr",
        "colab_type": "code",
        "outputId": "148acccb-d465-442f-eaec-3c3e1019ee92",
        "colab": {
          "base_uri": "https://localhost:8080/",
          "height": 119
        }
      },
      "source": [
        "unstable_users"
      ],
      "execution_count": 0,
      "outputs": [
        {
          "output_type": "execute_result",
          "data": {
            "text/plain": [
              "Int64Index([  1014,   1020,   1021,   1030,   1031,   1035,   1038,   1048,\n",
              "              1055,   1060,\n",
              "            ...\n",
              "            511497, 511500, 511501, 511506, 511510, 511514, 511517, 511520,\n",
              "            511526, 511535],\n",
              "           dtype='int64', name='cif_id', length=96885)"
            ]
          },
          "metadata": {
            "tags": []
          },
          "execution_count": 146
        }
      ]
    },
    {
      "cell_type": "code",
      "metadata": {
        "id": "1mu4W9KKzWBz",
        "colab_type": "code",
        "outputId": "42e424a1-0eed-4ac2-dd31-1f26424e21d4",
        "colab": {
          "base_uri": "https://localhost:8080/",
          "height": 170
        }
      },
      "source": [
        "grouped['dlk_cob_date'].describe()"
      ],
      "execution_count": 0,
      "outputs": [
        {
          "output_type": "execute_result",
          "data": {
            "text/plain": [
              "count    396576.000000\n",
              "mean         10.494289\n",
              "std           3.076219\n",
              "min           1.000000\n",
              "25%          12.000000\n",
              "50%          12.000000\n",
              "75%          12.000000\n",
              "max          12.000000\n",
              "Name: dlk_cob_date, dtype: float64"
            ]
          },
          "metadata": {
            "tags": []
          },
          "execution_count": 147
        }
      ]
    },
    {
      "cell_type": "code",
      "metadata": {
        "id": "1Qwf0v4PzWB6",
        "colab_type": "code",
        "outputId": "083a52a4-8c5c-4eb7-f07c-e5fa3c227dd1",
        "colab": {
          "base_uri": "https://localhost:8080/",
          "height": 34
        }
      },
      "source": [
        "df_train['big_city'].unique()"
      ],
      "execution_count": 0,
      "outputs": [
        {
          "output_type": "execute_result",
          "data": {
            "text/plain": [
              "array(['MLN', 'OTH', 'MSK', 'SPB'], dtype=object)"
            ]
          },
          "metadata": {
            "tags": []
          },
          "execution_count": 148
        }
      ]
    },
    {
      "cell_type": "code",
      "metadata": {
        "id": "sLqe-o2qzWCI",
        "colab_type": "code",
        "colab": {}
      },
      "source": [
        "cat_columns = df_train.dtypes[df_train.dtypes == 'object']"
      ],
      "execution_count": 0,
      "outputs": []
    },
    {
      "cell_type": "code",
      "metadata": {
        "id": "Trw3WXrBzWCQ",
        "colab_type": "code",
        "outputId": "531b7900-4ee9-4547-c4b0-6e89cc2e5545",
        "colab": {
          "base_uri": "https://localhost:8080/",
          "height": 816
        }
      },
      "source": [
        "df_train.dtypes"
      ],
      "execution_count": 0,
      "outputs": [
        {
          "output_type": "execute_result",
          "data": {
            "text/plain": [
              "cif_id                                 int64\n",
              "dlk_cob_date                  datetime64[ns]\n",
              "gi_smooth_3m                         float64\n",
              "big_city                              object\n",
              "cu_gender                              int64\n",
              "cu_education_level                    object\n",
              "cu_empl_area                          object\n",
              "cu_empl_level                         object\n",
              "payroll_f                              int64\n",
              "cur_quantity_pl                        int64\n",
              "cur_quantity_mort                      int64\n",
              "cur_quantity_cc                        int64\n",
              "cur_quantity_deposits                  int64\n",
              "cur_quantity_dc                        int64\n",
              "cur_quantity_accounts                  int64\n",
              "cur_quantity_saccounts                 int64\n",
              "cur_quantity_mf                        int64\n",
              "cc_balance                           float64\n",
              "cl_balance                           float64\n",
              "ml_balance                           float64\n",
              "pl_balance                           float64\n",
              "td_volume                            float64\n",
              "ca_volume                            float64\n",
              "sa_volume                            float64\n",
              "mf_volume                            float64\n",
              "dc_cash_spend_v                      float64\n",
              "dc_cash_spend_c                        int64\n",
              "cc_cash_spend_v                      float64\n",
              "cc_cash_spend_c                        int64\n",
              "dc_pos_spend_v                       float64\n",
              "dc_pos_spend_c                         int64\n",
              "cc_pos_spend_v                       float64\n",
              "cc_pos_spend_c                         int64\n",
              "ca_f                                   int64\n",
              "rc_session_qnt_cur_mon                 int64\n",
              "cur_qnt_sms                          float64\n",
              "active                                 int64\n",
              "standalone_dc_f                        int64\n",
              "standalone_payroll_dc_f                int64\n",
              "standalone_nonpayroll_dc_f             int64\n",
              "salary                               float64\n",
              "cu_age                               float64\n",
              "cu_mob                                 int64\n",
              "cu_empl_cur_dur_m                    float64\n",
              "is_married                             int64\n",
              "cu_eduaction_level                     int64\n",
              "dtype: object"
            ]
          },
          "metadata": {
            "tags": []
          },
          "execution_count": 150
        }
      ]
    },
    {
      "cell_type": "code",
      "metadata": {
        "id": "Q8mj3H-3zWCY",
        "colab_type": "code",
        "outputId": "2dfe8b75-3a8c-4d52-9d8d-c9cfec748db2",
        "colab": {
          "base_uri": "https://localhost:8080/",
          "height": 34
        }
      },
      "source": [
        "df_train['cu_eduaction_level'].unique()"
      ],
      "execution_count": 0,
      "outputs": [
        {
          "output_type": "execute_result",
          "data": {
            "text/plain": [
              "array([   2,    3,    1, -100,    4])"
            ]
          },
          "metadata": {
            "tags": []
          },
          "execution_count": 151
        }
      ]
    },
    {
      "cell_type": "code",
      "metadata": {
        "id": "K3wqLivnzWCj",
        "colab_type": "code",
        "colab": {}
      },
      "source": [
        "target = df_train[df_train['dlk_cob_date'] >= '2018-07-01'][['cif_id', 'gi_smooth_3m']].groupby('cif_id').sum()"
      ],
      "execution_count": 0,
      "outputs": []
    },
    {
      "cell_type": "code",
      "metadata": {
        "id": "rJ5mGGGCzWC3",
        "colab_type": "code",
        "colab": {}
      },
      "source": [
        "cu_columns = []\n",
        "for i in df_train.columns:\n",
        "    if i.find('cu_') != -1:\n",
        "        cu_columns.append(i)"
      ],
      "execution_count": 0,
      "outputs": []
    },
    {
      "cell_type": "code",
      "metadata": {
        "id": "OGNy7fqKzWDA",
        "colab_type": "code",
        "colab": {}
      },
      "source": [
        "df_train = df_train[df_train['dlk_cob_date'] < '2018-07-01']"
      ],
      "execution_count": 0,
      "outputs": []
    },
    {
      "cell_type": "code",
      "metadata": {
        "id": "7aBNg2JIzWDH",
        "colab_type": "code",
        "colab": {}
      },
      "source": [
        "df_train = pd.merge(df_train, target, how='left', left_on='cif_id', right_index=True)"
      ],
      "execution_count": 0,
      "outputs": []
    },
    {
      "cell_type": "code",
      "metadata": {
        "id": "kA2Jw3fpzWDP",
        "colab_type": "code",
        "outputId": "ddfd0ca1-acfc-4689-b5ad-13a7437224ac",
        "colab": {
          "base_uri": "https://localhost:8080/",
          "height": 309
        }
      },
      "source": [
        "df_train.head()"
      ],
      "execution_count": 0,
      "outputs": [
        {
          "output_type": "execute_result",
          "data": {
            "text/html": [
              "<div>\n",
              "<style scoped>\n",
              "    .dataframe tbody tr th:only-of-type {\n",
              "        vertical-align: middle;\n",
              "    }\n",
              "\n",
              "    .dataframe tbody tr th {\n",
              "        vertical-align: top;\n",
              "    }\n",
              "\n",
              "    .dataframe thead th {\n",
              "        text-align: right;\n",
              "    }\n",
              "</style>\n",
              "<table border=\"1\" class=\"dataframe\">\n",
              "  <thead>\n",
              "    <tr style=\"text-align: right;\">\n",
              "      <th></th>\n",
              "      <th>cif_id</th>\n",
              "      <th>dlk_cob_date</th>\n",
              "      <th>gi_smooth_3m_x</th>\n",
              "      <th>big_city</th>\n",
              "      <th>cu_gender</th>\n",
              "      <th>cu_education_level</th>\n",
              "      <th>cu_empl_area</th>\n",
              "      <th>cu_empl_level</th>\n",
              "      <th>payroll_f</th>\n",
              "      <th>cur_quantity_pl</th>\n",
              "      <th>cur_quantity_mort</th>\n",
              "      <th>cur_quantity_cc</th>\n",
              "      <th>cur_quantity_deposits</th>\n",
              "      <th>cur_quantity_dc</th>\n",
              "      <th>cur_quantity_accounts</th>\n",
              "      <th>cur_quantity_saccounts</th>\n",
              "      <th>cur_quantity_mf</th>\n",
              "      <th>cc_balance</th>\n",
              "      <th>cl_balance</th>\n",
              "      <th>ml_balance</th>\n",
              "      <th>pl_balance</th>\n",
              "      <th>td_volume</th>\n",
              "      <th>ca_volume</th>\n",
              "      <th>sa_volume</th>\n",
              "      <th>mf_volume</th>\n",
              "      <th>dc_cash_spend_v</th>\n",
              "      <th>dc_cash_spend_c</th>\n",
              "      <th>cc_cash_spend_v</th>\n",
              "      <th>cc_cash_spend_c</th>\n",
              "      <th>dc_pos_spend_v</th>\n",
              "      <th>dc_pos_spend_c</th>\n",
              "      <th>cc_pos_spend_v</th>\n",
              "      <th>cc_pos_spend_c</th>\n",
              "      <th>ca_f</th>\n",
              "      <th>rc_session_qnt_cur_mon</th>\n",
              "      <th>cur_qnt_sms</th>\n",
              "      <th>active</th>\n",
              "      <th>standalone_dc_f</th>\n",
              "      <th>standalone_payroll_dc_f</th>\n",
              "      <th>standalone_nonpayroll_dc_f</th>\n",
              "      <th>salary</th>\n",
              "      <th>cu_age</th>\n",
              "      <th>cu_mob</th>\n",
              "      <th>cu_empl_cur_dur_m</th>\n",
              "      <th>is_married</th>\n",
              "      <th>cu_eduaction_level</th>\n",
              "      <th>gi_smooth_3m_y</th>\n",
              "    </tr>\n",
              "  </thead>\n",
              "  <tbody>\n",
              "    <tr>\n",
              "      <th>1342694</th>\n",
              "      <td>1001</td>\n",
              "      <td>2018-01-31</td>\n",
              "      <td>70.994186</td>\n",
              "      <td>MLN</td>\n",
              "      <td>1</td>\n",
              "      <td>02. Среднее профессиональное</td>\n",
              "      <td>Строительство, недвижимость</td>\n",
              "      <td>SUPPORT STAFF</td>\n",
              "      <td>0</td>\n",
              "      <td>1</td>\n",
              "      <td>0</td>\n",
              "      <td>1</td>\n",
              "      <td>0</td>\n",
              "      <td>0</td>\n",
              "      <td>3</td>\n",
              "      <td>0</td>\n",
              "      <td>0</td>\n",
              "      <td>-2560.92120</td>\n",
              "      <td>NaN</td>\n",
              "      <td>NaN</td>\n",
              "      <td>-8259.28344</td>\n",
              "      <td>NaN</td>\n",
              "      <td>16.62792</td>\n",
              "      <td>NaN</td>\n",
              "      <td>NaN</td>\n",
              "      <td>0.0</td>\n",
              "      <td>0</td>\n",
              "      <td>0.0</td>\n",
              "      <td>0</td>\n",
              "      <td>0.0</td>\n",
              "      <td>0</td>\n",
              "      <td>0.0</td>\n",
              "      <td>0</td>\n",
              "      <td>1</td>\n",
              "      <td>0</td>\n",
              "      <td>-100.0</td>\n",
              "      <td>1</td>\n",
              "      <td>0</td>\n",
              "      <td>0</td>\n",
              "      <td>0</td>\n",
              "      <td>1051.2</td>\n",
              "      <td>56.0</td>\n",
              "      <td>121</td>\n",
              "      <td>123.0</td>\n",
              "      <td>1</td>\n",
              "      <td>2</td>\n",
              "      <td>322.283363</td>\n",
              "    </tr>\n",
              "    <tr>\n",
              "      <th>1342693</th>\n",
              "      <td>1001</td>\n",
              "      <td>2018-02-28</td>\n",
              "      <td>-6.005108</td>\n",
              "      <td>MLN</td>\n",
              "      <td>1</td>\n",
              "      <td>02. Среднее профессиональное</td>\n",
              "      <td>Строительство, недвижимость</td>\n",
              "      <td>SUPPORT STAFF</td>\n",
              "      <td>0</td>\n",
              "      <td>1</td>\n",
              "      <td>0</td>\n",
              "      <td>1</td>\n",
              "      <td>0</td>\n",
              "      <td>0</td>\n",
              "      <td>3</td>\n",
              "      <td>0</td>\n",
              "      <td>0</td>\n",
              "      <td>-2407.50144</td>\n",
              "      <td>NaN</td>\n",
              "      <td>NaN</td>\n",
              "      <td>-8381.09424</td>\n",
              "      <td>NaN</td>\n",
              "      <td>16.62792</td>\n",
              "      <td>NaN</td>\n",
              "      <td>NaN</td>\n",
              "      <td>0.0</td>\n",
              "      <td>0</td>\n",
              "      <td>0.0</td>\n",
              "      <td>0</td>\n",
              "      <td>0.0</td>\n",
              "      <td>0</td>\n",
              "      <td>0.0</td>\n",
              "      <td>0</td>\n",
              "      <td>1</td>\n",
              "      <td>0</td>\n",
              "      <td>-100.0</td>\n",
              "      <td>1</td>\n",
              "      <td>0</td>\n",
              "      <td>0</td>\n",
              "      <td>0</td>\n",
              "      <td>1051.2</td>\n",
              "      <td>56.0</td>\n",
              "      <td>122</td>\n",
              "      <td>124.0</td>\n",
              "      <td>1</td>\n",
              "      <td>2</td>\n",
              "      <td>322.283363</td>\n",
              "    </tr>\n",
              "    <tr>\n",
              "      <th>1342691</th>\n",
              "      <td>1001</td>\n",
              "      <td>2018-03-31</td>\n",
              "      <td>114.989605</td>\n",
              "      <td>MLN</td>\n",
              "      <td>1</td>\n",
              "      <td>02. Среднее профессиональное</td>\n",
              "      <td>Строительство, недвижимость</td>\n",
              "      <td>SUPPORT STAFF</td>\n",
              "      <td>0</td>\n",
              "      <td>0</td>\n",
              "      <td>0</td>\n",
              "      <td>1</td>\n",
              "      <td>0</td>\n",
              "      <td>0</td>\n",
              "      <td>3</td>\n",
              "      <td>0</td>\n",
              "      <td>0</td>\n",
              "      <td>-2255.23944</td>\n",
              "      <td>NaN</td>\n",
              "      <td>NaN</td>\n",
              "      <td>NaN</td>\n",
              "      <td>NaN</td>\n",
              "      <td>3514.35960</td>\n",
              "      <td>NaN</td>\n",
              "      <td>NaN</td>\n",
              "      <td>0.0</td>\n",
              "      <td>0</td>\n",
              "      <td>0.0</td>\n",
              "      <td>0</td>\n",
              "      <td>0.0</td>\n",
              "      <td>0</td>\n",
              "      <td>0.0</td>\n",
              "      <td>0</td>\n",
              "      <td>1</td>\n",
              "      <td>0</td>\n",
              "      <td>-100.0</td>\n",
              "      <td>1</td>\n",
              "      <td>0</td>\n",
              "      <td>0</td>\n",
              "      <td>0</td>\n",
              "      <td>1051.2</td>\n",
              "      <td>56.0</td>\n",
              "      <td>123</td>\n",
              "      <td>125.0</td>\n",
              "      <td>1</td>\n",
              "      <td>2</td>\n",
              "      <td>322.283363</td>\n",
              "    </tr>\n",
              "    <tr>\n",
              "      <th>1342690</th>\n",
              "      <td>1001</td>\n",
              "      <td>2018-04-30</td>\n",
              "      <td>147.408528</td>\n",
              "      <td>MLN</td>\n",
              "      <td>1</td>\n",
              "      <td>02. Среднее профессиональное</td>\n",
              "      <td>Строительство, недвижимость</td>\n",
              "      <td>SUPPORT STAFF</td>\n",
              "      <td>0</td>\n",
              "      <td>0</td>\n",
              "      <td>0</td>\n",
              "      <td>1</td>\n",
              "      <td>0</td>\n",
              "      <td>0</td>\n",
              "      <td>3</td>\n",
              "      <td>0</td>\n",
              "      <td>0</td>\n",
              "      <td>-2302.17480</td>\n",
              "      <td>NaN</td>\n",
              "      <td>NaN</td>\n",
              "      <td>NaN</td>\n",
              "      <td>NaN</td>\n",
              "      <td>3514.35960</td>\n",
              "      <td>NaN</td>\n",
              "      <td>NaN</td>\n",
              "      <td>0.0</td>\n",
              "      <td>0</td>\n",
              "      <td>0.0</td>\n",
              "      <td>0</td>\n",
              "      <td>0.0</td>\n",
              "      <td>0</td>\n",
              "      <td>0.0</td>\n",
              "      <td>0</td>\n",
              "      <td>1</td>\n",
              "      <td>0</td>\n",
              "      <td>-100.0</td>\n",
              "      <td>1</td>\n",
              "      <td>0</td>\n",
              "      <td>0</td>\n",
              "      <td>0</td>\n",
              "      <td>1051.2</td>\n",
              "      <td>56.0</td>\n",
              "      <td>124</td>\n",
              "      <td>126.0</td>\n",
              "      <td>1</td>\n",
              "      <td>2</td>\n",
              "      <td>322.283363</td>\n",
              "    </tr>\n",
              "    <tr>\n",
              "      <th>1342692</th>\n",
              "      <td>1001</td>\n",
              "      <td>2018-05-31</td>\n",
              "      <td>185.987934</td>\n",
              "      <td>MLN</td>\n",
              "      <td>1</td>\n",
              "      <td>02. Среднее профессиональное</td>\n",
              "      <td>Строительство, недвижимость</td>\n",
              "      <td>SUPPORT STAFF</td>\n",
              "      <td>0</td>\n",
              "      <td>0</td>\n",
              "      <td>0</td>\n",
              "      <td>1</td>\n",
              "      <td>0</td>\n",
              "      <td>0</td>\n",
              "      <td>3</td>\n",
              "      <td>0</td>\n",
              "      <td>0</td>\n",
              "      <td>-2350.82808</td>\n",
              "      <td>NaN</td>\n",
              "      <td>NaN</td>\n",
              "      <td>NaN</td>\n",
              "      <td>NaN</td>\n",
              "      <td>3514.35960</td>\n",
              "      <td>NaN</td>\n",
              "      <td>NaN</td>\n",
              "      <td>0.0</td>\n",
              "      <td>0</td>\n",
              "      <td>0.0</td>\n",
              "      <td>0</td>\n",
              "      <td>0.0</td>\n",
              "      <td>0</td>\n",
              "      <td>0.0</td>\n",
              "      <td>0</td>\n",
              "      <td>1</td>\n",
              "      <td>0</td>\n",
              "      <td>-100.0</td>\n",
              "      <td>1</td>\n",
              "      <td>0</td>\n",
              "      <td>0</td>\n",
              "      <td>0</td>\n",
              "      <td>1051.2</td>\n",
              "      <td>56.0</td>\n",
              "      <td>125</td>\n",
              "      <td>127.0</td>\n",
              "      <td>1</td>\n",
              "      <td>2</td>\n",
              "      <td>322.283363</td>\n",
              "    </tr>\n",
              "  </tbody>\n",
              "</table>\n",
              "</div>"
            ],
            "text/plain": [
              "         cif_id dlk_cob_date  ...  cu_eduaction_level gi_smooth_3m_y\n",
              "1342694    1001   2018-01-31  ...                   2     322.283363\n",
              "1342693    1001   2018-02-28  ...                   2     322.283363\n",
              "1342691    1001   2018-03-31  ...                   2     322.283363\n",
              "1342690    1001   2018-04-30  ...                   2     322.283363\n",
              "1342692    1001   2018-05-31  ...                   2     322.283363\n",
              "\n",
              "[5 rows x 47 columns]"
            ]
          },
          "metadata": {
            "tags": []
          },
          "execution_count": 156
        }
      ]
    },
    {
      "cell_type": "code",
      "metadata": {
        "id": "M5QwGm-XzWEC",
        "colab_type": "code",
        "outputId": "b93ccad1-4c77-420e-cfc0-dd1074eb3fe9",
        "colab": {
          "base_uri": "https://localhost:8080/",
          "height": 51
        }
      },
      "source": [
        "df_train['cu_education_level'].unique()"
      ],
      "execution_count": 0,
      "outputs": [
        {
          "output_type": "execute_result",
          "data": {
            "text/plain": [
              "array(['02. Среднее профессиональное', '03. Высшее', '01. Среднее', nan,\n",
              "       '04. Второе высшее, ученая степень'], dtype=object)"
            ]
          },
          "metadata": {
            "tags": []
          },
          "execution_count": 157
        }
      ]
    },
    {
      "cell_type": "code",
      "metadata": {
        "id": "fIQn5pGizWEK",
        "colab_type": "code",
        "outputId": "7b5d9294-638e-4a44-91f9-d81c5af029f0",
        "colab": {
          "base_uri": "https://localhost:8080/",
          "height": 136
        }
      },
      "source": [
        "df_train['cu_empl_level'].unique()"
      ],
      "execution_count": 0,
      "outputs": [
        {
          "output_type": "execute_result",
          "data": {
            "text/plain": [
              "array(['SUPPORT STAFF', 'BLUE COLLAR STAFF', '03', 'TRADE REPRESENTATIVE',\n",
              "       'QUALIFIED STAFF', nan, 'MIDDLE MANAGEMENT', 'SALES MANAGER', '01',\n",
              "       'SENIOR MANAGEMENT', 'Self-employed', '02', 'INSURANCE AGENT',\n",
              "       'Other', '06', 'SELF-EMPLOYED', 'OTHER', '04', '05',\n",
              "       'начальник отдела продаж', 'АО ТПК', 'начальник отдела', '-',\n",
              "       'пРОДАВЕЦ-КОНСУЛЬТАНТ', 'ассистент', 'Other - учащаяся',\n",
              "       'Директор'], dtype=object)"
            ]
          },
          "metadata": {
            "tags": []
          },
          "execution_count": 158
        }
      ]
    },
    {
      "cell_type": "code",
      "metadata": {
        "id": "_8QYzeUIzWES",
        "colab_type": "code",
        "colab": {}
      },
      "source": [
        "def MAPE(y_true, y_pred):\n",
        "    error = np.abs((y_true - y_pred) / (y_true + 1))\n",
        "    return np.mean(error) * 100"
      ],
      "execution_count": 0,
      "outputs": []
    },
    {
      "cell_type": "code",
      "metadata": {
        "id": "_othY3EszWEZ",
        "colab_type": "code",
        "colab": {}
      },
      "source": [
        "df = df_train.drop(['cu_education_level', 'cu_empl_area', 'cu_empl_level',\n",
        "              'cu_empl_cur_dur_m'], axis=1)"
      ],
      "execution_count": 0,
      "outputs": []
    },
    {
      "cell_type": "code",
      "metadata": {
        "id": "om7UODC0zWEn",
        "colab_type": "code",
        "outputId": "8a55097f-6f1d-4a1f-9037-7cc7def1f6e0",
        "colab": {
          "base_uri": "https://localhost:8080/",
          "height": 224
        }
      },
      "source": [
        "df.head()"
      ],
      "execution_count": 0,
      "outputs": [
        {
          "output_type": "execute_result",
          "data": {
            "text/html": [
              "<div>\n",
              "<style scoped>\n",
              "    .dataframe tbody tr th:only-of-type {\n",
              "        vertical-align: middle;\n",
              "    }\n",
              "\n",
              "    .dataframe tbody tr th {\n",
              "        vertical-align: top;\n",
              "    }\n",
              "\n",
              "    .dataframe thead th {\n",
              "        text-align: right;\n",
              "    }\n",
              "</style>\n",
              "<table border=\"1\" class=\"dataframe\">\n",
              "  <thead>\n",
              "    <tr style=\"text-align: right;\">\n",
              "      <th></th>\n",
              "      <th>cif_id</th>\n",
              "      <th>dlk_cob_date</th>\n",
              "      <th>gi_smooth_3m_x</th>\n",
              "      <th>big_city</th>\n",
              "      <th>cu_gender</th>\n",
              "      <th>payroll_f</th>\n",
              "      <th>cur_quantity_pl</th>\n",
              "      <th>cur_quantity_mort</th>\n",
              "      <th>cur_quantity_cc</th>\n",
              "      <th>cur_quantity_deposits</th>\n",
              "      <th>cur_quantity_dc</th>\n",
              "      <th>cur_quantity_accounts</th>\n",
              "      <th>cur_quantity_saccounts</th>\n",
              "      <th>cur_quantity_mf</th>\n",
              "      <th>cc_balance</th>\n",
              "      <th>cl_balance</th>\n",
              "      <th>ml_balance</th>\n",
              "      <th>pl_balance</th>\n",
              "      <th>td_volume</th>\n",
              "      <th>ca_volume</th>\n",
              "      <th>sa_volume</th>\n",
              "      <th>mf_volume</th>\n",
              "      <th>dc_cash_spend_v</th>\n",
              "      <th>dc_cash_spend_c</th>\n",
              "      <th>cc_cash_spend_v</th>\n",
              "      <th>cc_cash_spend_c</th>\n",
              "      <th>dc_pos_spend_v</th>\n",
              "      <th>dc_pos_spend_c</th>\n",
              "      <th>cc_pos_spend_v</th>\n",
              "      <th>cc_pos_spend_c</th>\n",
              "      <th>ca_f</th>\n",
              "      <th>rc_session_qnt_cur_mon</th>\n",
              "      <th>cur_qnt_sms</th>\n",
              "      <th>active</th>\n",
              "      <th>standalone_dc_f</th>\n",
              "      <th>standalone_payroll_dc_f</th>\n",
              "      <th>standalone_nonpayroll_dc_f</th>\n",
              "      <th>salary</th>\n",
              "      <th>cu_age</th>\n",
              "      <th>cu_mob</th>\n",
              "      <th>is_married</th>\n",
              "      <th>cu_eduaction_level</th>\n",
              "      <th>gi_smooth_3m_y</th>\n",
              "    </tr>\n",
              "  </thead>\n",
              "  <tbody>\n",
              "    <tr>\n",
              "      <th>1342694</th>\n",
              "      <td>1001</td>\n",
              "      <td>2018-01-31</td>\n",
              "      <td>70.994186</td>\n",
              "      <td>MLN</td>\n",
              "      <td>1</td>\n",
              "      <td>0</td>\n",
              "      <td>1</td>\n",
              "      <td>0</td>\n",
              "      <td>1</td>\n",
              "      <td>0</td>\n",
              "      <td>0</td>\n",
              "      <td>3</td>\n",
              "      <td>0</td>\n",
              "      <td>0</td>\n",
              "      <td>-2560.92120</td>\n",
              "      <td>NaN</td>\n",
              "      <td>NaN</td>\n",
              "      <td>-8259.28344</td>\n",
              "      <td>NaN</td>\n",
              "      <td>16.62792</td>\n",
              "      <td>NaN</td>\n",
              "      <td>NaN</td>\n",
              "      <td>0.0</td>\n",
              "      <td>0</td>\n",
              "      <td>0.0</td>\n",
              "      <td>0</td>\n",
              "      <td>0.0</td>\n",
              "      <td>0</td>\n",
              "      <td>0.0</td>\n",
              "      <td>0</td>\n",
              "      <td>1</td>\n",
              "      <td>0</td>\n",
              "      <td>-100.0</td>\n",
              "      <td>1</td>\n",
              "      <td>0</td>\n",
              "      <td>0</td>\n",
              "      <td>0</td>\n",
              "      <td>1051.2</td>\n",
              "      <td>56.0</td>\n",
              "      <td>121</td>\n",
              "      <td>1</td>\n",
              "      <td>2</td>\n",
              "      <td>322.283363</td>\n",
              "    </tr>\n",
              "    <tr>\n",
              "      <th>1342693</th>\n",
              "      <td>1001</td>\n",
              "      <td>2018-02-28</td>\n",
              "      <td>-6.005108</td>\n",
              "      <td>MLN</td>\n",
              "      <td>1</td>\n",
              "      <td>0</td>\n",
              "      <td>1</td>\n",
              "      <td>0</td>\n",
              "      <td>1</td>\n",
              "      <td>0</td>\n",
              "      <td>0</td>\n",
              "      <td>3</td>\n",
              "      <td>0</td>\n",
              "      <td>0</td>\n",
              "      <td>-2407.50144</td>\n",
              "      <td>NaN</td>\n",
              "      <td>NaN</td>\n",
              "      <td>-8381.09424</td>\n",
              "      <td>NaN</td>\n",
              "      <td>16.62792</td>\n",
              "      <td>NaN</td>\n",
              "      <td>NaN</td>\n",
              "      <td>0.0</td>\n",
              "      <td>0</td>\n",
              "      <td>0.0</td>\n",
              "      <td>0</td>\n",
              "      <td>0.0</td>\n",
              "      <td>0</td>\n",
              "      <td>0.0</td>\n",
              "      <td>0</td>\n",
              "      <td>1</td>\n",
              "      <td>0</td>\n",
              "      <td>-100.0</td>\n",
              "      <td>1</td>\n",
              "      <td>0</td>\n",
              "      <td>0</td>\n",
              "      <td>0</td>\n",
              "      <td>1051.2</td>\n",
              "      <td>56.0</td>\n",
              "      <td>122</td>\n",
              "      <td>1</td>\n",
              "      <td>2</td>\n",
              "      <td>322.283363</td>\n",
              "    </tr>\n",
              "    <tr>\n",
              "      <th>1342691</th>\n",
              "      <td>1001</td>\n",
              "      <td>2018-03-31</td>\n",
              "      <td>114.989605</td>\n",
              "      <td>MLN</td>\n",
              "      <td>1</td>\n",
              "      <td>0</td>\n",
              "      <td>0</td>\n",
              "      <td>0</td>\n",
              "      <td>1</td>\n",
              "      <td>0</td>\n",
              "      <td>0</td>\n",
              "      <td>3</td>\n",
              "      <td>0</td>\n",
              "      <td>0</td>\n",
              "      <td>-2255.23944</td>\n",
              "      <td>NaN</td>\n",
              "      <td>NaN</td>\n",
              "      <td>NaN</td>\n",
              "      <td>NaN</td>\n",
              "      <td>3514.35960</td>\n",
              "      <td>NaN</td>\n",
              "      <td>NaN</td>\n",
              "      <td>0.0</td>\n",
              "      <td>0</td>\n",
              "      <td>0.0</td>\n",
              "      <td>0</td>\n",
              "      <td>0.0</td>\n",
              "      <td>0</td>\n",
              "      <td>0.0</td>\n",
              "      <td>0</td>\n",
              "      <td>1</td>\n",
              "      <td>0</td>\n",
              "      <td>-100.0</td>\n",
              "      <td>1</td>\n",
              "      <td>0</td>\n",
              "      <td>0</td>\n",
              "      <td>0</td>\n",
              "      <td>1051.2</td>\n",
              "      <td>56.0</td>\n",
              "      <td>123</td>\n",
              "      <td>1</td>\n",
              "      <td>2</td>\n",
              "      <td>322.283363</td>\n",
              "    </tr>\n",
              "    <tr>\n",
              "      <th>1342690</th>\n",
              "      <td>1001</td>\n",
              "      <td>2018-04-30</td>\n",
              "      <td>147.408528</td>\n",
              "      <td>MLN</td>\n",
              "      <td>1</td>\n",
              "      <td>0</td>\n",
              "      <td>0</td>\n",
              "      <td>0</td>\n",
              "      <td>1</td>\n",
              "      <td>0</td>\n",
              "      <td>0</td>\n",
              "      <td>3</td>\n",
              "      <td>0</td>\n",
              "      <td>0</td>\n",
              "      <td>-2302.17480</td>\n",
              "      <td>NaN</td>\n",
              "      <td>NaN</td>\n",
              "      <td>NaN</td>\n",
              "      <td>NaN</td>\n",
              "      <td>3514.35960</td>\n",
              "      <td>NaN</td>\n",
              "      <td>NaN</td>\n",
              "      <td>0.0</td>\n",
              "      <td>0</td>\n",
              "      <td>0.0</td>\n",
              "      <td>0</td>\n",
              "      <td>0.0</td>\n",
              "      <td>0</td>\n",
              "      <td>0.0</td>\n",
              "      <td>0</td>\n",
              "      <td>1</td>\n",
              "      <td>0</td>\n",
              "      <td>-100.0</td>\n",
              "      <td>1</td>\n",
              "      <td>0</td>\n",
              "      <td>0</td>\n",
              "      <td>0</td>\n",
              "      <td>1051.2</td>\n",
              "      <td>56.0</td>\n",
              "      <td>124</td>\n",
              "      <td>1</td>\n",
              "      <td>2</td>\n",
              "      <td>322.283363</td>\n",
              "    </tr>\n",
              "    <tr>\n",
              "      <th>1342692</th>\n",
              "      <td>1001</td>\n",
              "      <td>2018-05-31</td>\n",
              "      <td>185.987934</td>\n",
              "      <td>MLN</td>\n",
              "      <td>1</td>\n",
              "      <td>0</td>\n",
              "      <td>0</td>\n",
              "      <td>0</td>\n",
              "      <td>1</td>\n",
              "      <td>0</td>\n",
              "      <td>0</td>\n",
              "      <td>3</td>\n",
              "      <td>0</td>\n",
              "      <td>0</td>\n",
              "      <td>-2350.82808</td>\n",
              "      <td>NaN</td>\n",
              "      <td>NaN</td>\n",
              "      <td>NaN</td>\n",
              "      <td>NaN</td>\n",
              "      <td>3514.35960</td>\n",
              "      <td>NaN</td>\n",
              "      <td>NaN</td>\n",
              "      <td>0.0</td>\n",
              "      <td>0</td>\n",
              "      <td>0.0</td>\n",
              "      <td>0</td>\n",
              "      <td>0.0</td>\n",
              "      <td>0</td>\n",
              "      <td>0.0</td>\n",
              "      <td>0</td>\n",
              "      <td>1</td>\n",
              "      <td>0</td>\n",
              "      <td>-100.0</td>\n",
              "      <td>1</td>\n",
              "      <td>0</td>\n",
              "      <td>0</td>\n",
              "      <td>0</td>\n",
              "      <td>1051.2</td>\n",
              "      <td>56.0</td>\n",
              "      <td>125</td>\n",
              "      <td>1</td>\n",
              "      <td>2</td>\n",
              "      <td>322.283363</td>\n",
              "    </tr>\n",
              "  </tbody>\n",
              "</table>\n",
              "</div>"
            ],
            "text/plain": [
              "         cif_id dlk_cob_date  ...  cu_eduaction_level gi_smooth_3m_y\n",
              "1342694    1001   2018-01-31  ...                   2     322.283363\n",
              "1342693    1001   2018-02-28  ...                   2     322.283363\n",
              "1342691    1001   2018-03-31  ...                   2     322.283363\n",
              "1342690    1001   2018-04-30  ...                   2     322.283363\n",
              "1342692    1001   2018-05-31  ...                   2     322.283363\n",
              "\n",
              "[5 rows x 43 columns]"
            ]
          },
          "metadata": {
            "tags": []
          },
          "execution_count": 161
        }
      ]
    },
    {
      "cell_type": "code",
      "metadata": {
        "id": "SJnRq9-8zWEx",
        "colab_type": "code",
        "colab": {}
      },
      "source": [
        "df = df.fillna(0)"
      ],
      "execution_count": 0,
      "outputs": []
    },
    {
      "cell_type": "code",
      "metadata": {
        "id": "EVC9y8a5zWE5",
        "colab_type": "code",
        "outputId": "ed44272b-40ec-42aa-fb11-06b04e765040",
        "colab": {
          "base_uri": "https://localhost:8080/",
          "height": 170
        }
      },
      "source": [
        "df['pl_balance'].describe()"
      ],
      "execution_count": 0,
      "outputs": [
        {
          "output_type": "execute_result",
          "data": {
            "text/plain": [
              "count    2.057178e+06\n",
              "mean    -3.289187e+03\n",
              "std      5.799219e+03\n",
              "min     -7.538658e+04\n",
              "25%     -4.758689e+03\n",
              "50%      0.000000e+00\n",
              "75%      0.000000e+00\n",
              "max      0.000000e+00\n",
              "Name: pl_balance, dtype: float64"
            ]
          },
          "metadata": {
            "tags": []
          },
          "execution_count": 163
        }
      ]
    },
    {
      "cell_type": "code",
      "metadata": {
        "id": "Z-qRhtNozWFF",
        "colab_type": "code",
        "colab": {}
      },
      "source": [
        "df['all_credits_count'] = df['cur_quantity_pl'] + df['cur_quantity_mort']\n",
        "df['all_cards_count'] = df['cur_quantity_dc'] + df['cur_quantity_cc']\n",
        "df['all_accounts_count'] = df['cur_quantity_accounts'] + df['cur_quantity_deposits'] + df['cur_quantity_saccounts'] + df['cur_quantity_mf']\n",
        "df['pl_share'] = df['cur_quantity_pl'] / df['all_credits_count']\n",
        "df['mort_share'] = df['cur_quantity_mort'] / df['all_credits_count']\n",
        "df['dc_share'] = df['cur_quantity_dc'] / df['all_cards_count']\n",
        "df['cc_share'] = df['cur_quantity_cc'] / df['all_cards_count']\n",
        "df['acc_share'] = df['cur_quantity_accounts'] / df['all_accounts_count']\n",
        "df['dep_share'] = df['cur_quantity_deposits'] / df['all_accounts_count']\n",
        "df['sacc_share'] = df['cur_quantity_saccounts'] / df['all_accounts_count']\n",
        "df['mf_share'] = df['cur_quantity_mf'] / df['all_accounts_count']\n",
        "df['all_credits_sum'] = df['cc_balance'] + df['cl_balance'] + df['ml_balance'] + df['pl_balance']\n",
        "df['cc_sumshare'] = df['cc_balance'] / df['all_credits_sum']\n",
        "df['cl_sumshare'] = df['cl_balance'] / df['all_credits_sum']\n",
        "df['ml_sumshare'] = df['ml_balance'] / df['all_credits_sum']\n",
        "df['pl_sumshare'] = df['pl_balance'] / df['all_credits_sum']\n",
        "df['all_accounts_sum'] = df['td_volume'] + df['ca_volume'] + df['sa_volume'] + df['mf_volume']\n",
        "df['td_sumshare'] = df['td_volume'] / df['all_accounts_sum']\n",
        "df['ca_sumshare'] = df['ca_volume'] / df['all_accounts_sum']\n",
        "df['sa_sumshare'] = df['sa_volume'] / df['all_accounts_sum']\n",
        "df['mf_sumshare'] = df['mf_volume'] / df['all_accounts_sum']\n",
        "df['avg_cash_spend_cc'] = df['cc_cash_spend_v'] / df['cc_cash_spend_c']\n",
        "df['avg_cash_spend_dc'] = df['dc_cash_spend_v'] / df['dc_cash_spend_c']\n",
        "df['sum_spend_cash'] = df['cc_cash_spend_v'] + df['dc_cash_spend_v']\n",
        "df['count_spend_cash'] = df['cc_cash_spend_c'] + df['dc_cash_spend_c']\n",
        "df['dc_cash_share'] = df['dc_cash_spend_v'] / df['sum_spend_cash']\n",
        "df['cc_cash_share'] = df['cc_cash_spend_v'] / df['sum_spend_cash']\n",
        "df['pos_sum'] = df['dc_pos_spend_v'] + df['cc_pos_spend_v']\n",
        "df['pos_count'] = df['dc_pos_spend_c'] + df['cc_pos_spend_c']\n",
        "df['dc_pos_share_sum'] = df['dc_pos_spend_v'] / df['pos_sum']\n",
        "df['cc_pos_share_sum'] = df['cc_pos_spend_v'] / df['pos_sum']\n",
        "df['dc_pos_share_count'] = df['dc_pos_spend_c'] / df['pos_count']\n",
        "df['cc_pos_share_count'] = df['cc_pos_spend_c'] / df['pos_count']"
      ],
      "execution_count": 0,
      "outputs": []
    },
    {
      "cell_type": "code",
      "metadata": {
        "id": "RBQMuMb72hUh",
        "colab_type": "code",
        "outputId": "0327973b-77e0-42c4-db27-8d8894b017be",
        "colab": {
          "base_uri": "https://localhost:8080/",
          "height": 34
        }
      },
      "source": [
        "df['cif_id'].nunique()"
      ],
      "execution_count": 0,
      "outputs": [
        {
          "output_type": "execute_result",
          "data": {
            "text/plain": [
              "364617"
            ]
          },
          "metadata": {
            "tags": []
          },
          "execution_count": 165
        }
      ]
    },
    {
      "cell_type": "code",
      "metadata": {
        "id": "yg6P8XKOUqvf",
        "colab_type": "code",
        "colab": {}
      },
      "source": [
        "df.dlk_cob_date = df.dlk_cob_date.apply(lambda x: x.month)"
      ],
      "execution_count": 0,
      "outputs": []
    },
    {
      "cell_type": "code",
      "metadata": {
        "id": "283UEKsNRpGc",
        "colab_type": "code",
        "colab": {}
      },
      "source": [
        "df = df.set_index(['cif_id', 'dlk_cob_date']).unstack().fillna(0)"
      ],
      "execution_count": 0,
      "outputs": []
    },
    {
      "cell_type": "code",
      "metadata": {
        "id": "ToMkYY91W-Hg",
        "colab_type": "code",
        "outputId": "5cdcc6b0-c192-4d73-f83b-90f93441a05f",
        "colab": {
          "base_uri": "https://localhost:8080/",
          "height": 34
        }
      },
      "source": [
        "df.shape"
      ],
      "execution_count": 0,
      "outputs": [
        {
          "output_type": "execute_result",
          "data": {
            "text/plain": [
              "(364617, 444)"
            ]
          },
          "metadata": {
            "tags": []
          },
          "execution_count": 168
        }
      ]
    },
    {
      "cell_type": "code",
      "metadata": {
        "id": "NjIdzRp0h7Jt",
        "colab_type": "code",
        "colab": {}
      },
      "source": [
        "lst_diff_sum = ['gi_smooth_3m_x', 'salary', \n",
        "                 'all_accounts_sum', 'all_credits_sum',\n",
        "                 'sum_spend_cash', 'dc_cash_spend_v', 'dc_cash_spend_c', \n",
        "                'cc_cash_spend_v','cc_cash_spend_c', 'dc_pos_spend_v', \n",
        "                'dc_pos_spend_c', 'cc_pos_spend_v',\n",
        "       'cc_pos_spend_c','cc_balance', 'cl_balance',\n",
        "       'ml_balance', 'pl_balance', 'td_volume', 'ca_volume', 'sa_volume',\n",
        "       'mf_volume', 'cur_quantity_pl', 'cur_quantity_mort', 'cur_quantity_cc',\n",
        "       'cur_quantity_deposits', 'cur_quantity_dc', 'cur_quantity_accounts',\n",
        "       'cur_quantity_saccounts', 'cur_quantity_mf', 'standalone_dc_f', 'standalone_payroll_dc_f',\n",
        "       'standalone_nonpayroll_dc_f', 'all_credits_count', 'all_cards_count', 'all_accounts_count',\n",
        "       'pl_share', 'mort_share', 'dc_share', 'cc_share', 'acc_share',\n",
        "       'dep_share', 'sacc_share', 'mf_share', 'cc_sumshare',\n",
        "       'cl_sumshare', 'ml_sumshare', 'pl_sumshare',\n",
        "       'td_sumshare', 'ca_sumshare', 'sa_sumshare', 'mf_sumshare',\n",
        "       'avg_cash_spend_cc', 'avg_cash_spend_dc',\n",
        "       'count_spend_cash', 'dc_cash_share', 'cc_cash_share', 'pos_sum',\n",
        "       'pos_count', 'dc_pos_share_sum', 'cc_pos_share_sum',\n",
        "       'dc_pos_share_count', 'cc_pos_share_count']"
      ],
      "execution_count": 0,
      "outputs": []
    },
    {
      "cell_type": "code",
      "metadata": {
        "id": "S2RUp20rg1YH",
        "colab_type": "code",
        "colab": {}
      },
      "source": [
        "for col in lst_diff_sum:\n",
        "  df['diff_sum_' + col] = df[col].diff(axis=1).drop(1,axis=1).sum(axis=1)"
      ],
      "execution_count": 0,
      "outputs": []
    },
    {
      "cell_type": "code",
      "metadata": {
        "id": "Q5uTmvRh1gHu",
        "colab_type": "code",
        "colab": {}
      },
      "source": [
        "for col in lst_diff_sum:\n",
        "  df['max_diff_' + col] = df[col].diff(axis=1).drop(1,axis=1).max(axis=1)"
      ],
      "execution_count": 0,
      "outputs": []
    },
    {
      "cell_type": "code",
      "metadata": {
        "id": "2z_1_bY91sIa",
        "colab_type": "code",
        "colab": {}
      },
      "source": [
        "for col in lst_diff_sum:\n",
        "  df['min_diff_' + col] = df[col].diff(axis=1).drop(1,axis=1).min(axis=1)"
      ],
      "execution_count": 0,
      "outputs": []
    },
    {
      "cell_type": "code",
      "metadata": {
        "id": "Ay_EmsfZn9XZ",
        "colab_type": "code",
        "colab": {}
      },
      "source": [
        "lst_diff_mean = ['salary', 'all_accounts_sum', 'all_credits_sum',\n",
        "                 'gi_smooth_3m_x','cc_balance', \n",
        "                 'cl_balance','ml_balance', 'pl_balance', 'td_volume', \n",
        "                 'ca_volume', 'sa_volume','mf_volume', 'sum_spend_cash', ]"
      ],
      "execution_count": 0,
      "outputs": []
    },
    {
      "cell_type": "code",
      "metadata": {
        "id": "1QkYXylVTWnH",
        "colab_type": "code",
        "colab": {}
      },
      "source": [
        "for col in lst_diff_mean:\n",
        "  df['diff_mean_' + col] = df['diff_sum_'+col]/5"
      ],
      "execution_count": 0,
      "outputs": []
    },
    {
      "cell_type": "code",
      "metadata": {
        "id": "tUv4VlOuUL45",
        "colab_type": "code",
        "colab": {}
      },
      "source": [
        "last_col_lst = ['cur_quantity_pl', 'cur_quantity_mort', 'cur_quantity_cc',\n",
        "       'cur_quantity_deposits', 'cur_quantity_dc', 'cur_quantity_accounts',\n",
        "       'cur_quantity_saccounts', 'cur_quantity_mf', 'ca_f', 'cu_age', 'cu_mob', \n",
        "       'is_married', 'cu_eduaction_level', 'big_city', 'cu_gender', 'standalone_dc_f', 'standalone_payroll_dc_f',\n",
        "       'standalone_nonpayroll_dc_f', 'active', 'gi_smooth_3m_y', 'payroll_f', 'gi_smooth_3m_x']"
      ],
      "execution_count": 0,
      "outputs": []
    },
    {
      "cell_type": "code",
      "metadata": {
        "id": "GpleEcUPsW0J",
        "colab_type": "code",
        "colab": {}
      },
      "source": [
        "for col in last_col_lst:\n",
        "  df[col+'_m6'] = df[col][6]\n",
        "  if col != 'gi_smooth_3m_x':\n",
        "    df.drop(col, axis=1, inplace=True)"
      ],
      "execution_count": 0,
      "outputs": []
    },
    {
      "cell_type": "code",
      "metadata": {
        "id": "Aq3VVY408qOo",
        "colab_type": "code",
        "colab": {}
      },
      "source": [
        "summary_col_lst = ['gi_smooth_3m_x', 'salary', \n",
        "                 'all_accounts_sum', 'all_credits_sum',\n",
        "                 'sum_spend_cash', 'dc_cash_spend_v', 'dc_cash_spend_c', \n",
        "                'cc_cash_spend_v','cc_cash_spend_c', 'dc_pos_spend_v', \n",
        "                'dc_pos_spend_c', 'cc_pos_spend_v',\n",
        "       'cc_pos_spend_c','cc_balance', 'cl_balance',\n",
        "       'ml_balance', 'pl_balance', 'td_volume', 'ca_volume', 'sa_volume',\n",
        "       'mf_volume','all_credits_count', 'all_cards_count', 'all_accounts_count',\n",
        "       'pl_share', 'mort_share', 'dc_share', 'cc_share', 'acc_share',\n",
        "       'dep_share', 'sacc_share', 'mf_share', 'cc_sumshare',\n",
        "       'cl_sumshare', 'ml_sumshare', 'pl_sumshare',\n",
        "       'td_sumshare', 'ca_sumshare', 'sa_sumshare', 'mf_sumshare',\n",
        "       'avg_cash_spend_cc', 'avg_cash_spend_dc',\n",
        "       'count_spend_cash', 'dc_cash_share', 'cc_cash_share', 'pos_sum',\n",
        "       'pos_count', 'dc_pos_share_sum', 'cc_pos_share_sum',\n",
        "       'dc_pos_share_count', 'cc_pos_share_count', 'cur_qnt_sms','rc_session_qnt_cur_mon']"
      ],
      "execution_count": 0,
      "outputs": []
    },
    {
      "cell_type": "code",
      "metadata": {
        "id": "bpkqCrzO_A1L",
        "colab_type": "code",
        "colab": {}
      },
      "source": [
        "for col in summary_col_lst:\n",
        "    df['sum_' + col] = df[col].sum(axis=1)\n",
        "    df['min_' + col] = df[col].min(axis=1)\n",
        "    df['max_' + col] = df[col].max(axis=1)\n",
        "    df['mean_' + col] = df[col].sum(axis=1)/6\n",
        "    df.drop(col, axis=1, inplace=True)\n"
      ],
      "execution_count": 0,
      "outputs": []
    },
    {
      "cell_type": "code",
      "metadata": {
        "id": "KzGgCz4VHjhp",
        "colab_type": "code",
        "colab": {}
      },
      "source": [
        "df.columns = [ ''.join([str(c) for c in c_list]) for c_list in df.columns.values ]"
      ],
      "execution_count": 0,
      "outputs": []
    },
    {
      "cell_type": "code",
      "metadata": {
        "id": "lpaGy0bQPbgz",
        "colab_type": "code",
        "outputId": "ee39b14c-bc9f-464d-db84-3dced0d5bc4c",
        "colab": {
          "base_uri": "https://localhost:8080/",
          "height": 238
        }
      },
      "source": [
        "df['big_city_m6']"
      ],
      "execution_count": 0,
      "outputs": [
        {
          "output_type": "execute_result",
          "data": {
            "text/plain": [
              "cif_id\n",
              "1001      MLN\n",
              "1002      OTH\n",
              "1004      OTH\n",
              "1005      MSK\n",
              "1007      OTH\n",
              "         ... \n",
              "511533    MSK\n",
              "511534    OTH\n",
              "511535    OTH\n",
              "511536    OTH\n",
              "511537    MSK\n",
              "Name: big_city_m6, Length: 364617, dtype: object"
            ]
          },
          "metadata": {
            "tags": []
          },
          "execution_count": 182
        }
      ]
    },
    {
      "cell_type": "code",
      "metadata": {
        "id": "BlhjU5z5zWF8",
        "colab_type": "code",
        "colab": {}
      },
      "source": [
        "city = pd.get_dummies(df['big_city_m6'])"
      ],
      "execution_count": 0,
      "outputs": []
    },
    {
      "cell_type": "code",
      "metadata": {
        "id": "-m4gP2SlzWGE",
        "colab_type": "code",
        "colab": {}
      },
      "source": [
        "df = pd.concat([df, city], axis=1)"
      ],
      "execution_count": 0,
      "outputs": []
    },
    {
      "cell_type": "code",
      "metadata": {
        "id": "jBSz4tLgzWGL",
        "colab_type": "code",
        "colab": {}
      },
      "source": [
        "df.drop(['big_city_m6'], axis=1, inplace=True)"
      ],
      "execution_count": 0,
      "outputs": []
    },
    {
      "cell_type": "code",
      "metadata": {
        "id": "CkH22UDpQZd7",
        "colab_type": "code",
        "colab": {}
      },
      "source": [
        "y = df['gi_smooth_3m_y_m6']\n",
        "X = df.drop('gi_smooth_3m_y_m6', axis=1, inplace=True)"
      ],
      "execution_count": 0,
      "outputs": []
    },
    {
      "cell_type": "code",
      "metadata": {
        "id": "gHy_VPaOzWHN",
        "colab_type": "code",
        "colab": {}
      },
      "source": [
        "from sklearn.model_selection import train_test_split"
      ],
      "execution_count": 0,
      "outputs": []
    },
    {
      "cell_type": "code",
      "metadata": {
        "id": "oxbJQ17qzWHU",
        "colab_type": "code",
        "colab": {}
      },
      "source": [
        "X_train, X_test, y_train, y_test = train_test_split(tr.values[:, 1:], y, test_size=0.2)"
      ],
      "execution_count": 0,
      "outputs": []
    },
    {
      "cell_type": "code",
      "metadata": {
        "id": "FoE9DxT-zWHb",
        "colab_type": "code",
        "outputId": "e096716a-cb40-430b-8c97-105a2dfe2d96",
        "colab": {}
      },
      "source": [
        "y_train.shape"
      ],
      "execution_count": 0,
      "outputs": [
        {
          "output_type": "execute_result",
          "data": {
            "text/plain": [
              "(68759, 75)"
            ]
          },
          "metadata": {
            "tags": []
          },
          "execution_count": 106
        }
      ]
    },
    {
      "cell_type": "code",
      "metadata": {
        "id": "aImCmXegzWHw",
        "colab_type": "code",
        "colab": {}
      },
      "source": [
        "import lightgbm as lgb"
      ],
      "execution_count": 0,
      "outputs": []
    },
    {
      "cell_type": "code",
      "metadata": {
        "id": "cjCdKM4jzWIA",
        "colab_type": "code",
        "colab": {}
      },
      "source": [
        "model = lgb.LGBMRegressor()"
      ],
      "execution_count": 0,
      "outputs": []
    },
    {
      "cell_type": "code",
      "metadata": {
        "id": "HNuB8VCzzWIN",
        "colab_type": "code",
        "outputId": "b2cbb25f-2eea-494a-8e35-2d8917c4ef8c",
        "colab": {}
      },
      "source": [
        "model.fit(X_train, y_train)"
      ],
      "execution_count": 0,
      "outputs": [
        {
          "output_type": "execute_result",
          "data": {
            "text/plain": [
              "LGBMRegressor(boosting_type='gbdt', class_weight=None, colsample_bytree=1.0,\n",
              "       importance_type='split', learning_rate=0.1, max_depth=-1,\n",
              "       min_child_samples=20, min_child_weight=0.001, min_split_gain=0.0,\n",
              "       n_estimators=100, n_jobs=-1, num_leaves=31, objective=None,\n",
              "       random_state=None, reg_alpha=0.0, reg_lambda=0.0, silent=True,\n",
              "       subsample=1.0, subsample_for_bin=200000, subsample_freq=0)"
            ]
          },
          "metadata": {
            "tags": []
          },
          "execution_count": 108
        }
      ]
    },
    {
      "cell_type": "code",
      "metadata": {
        "id": "c_lh99b_zWIT",
        "colab_type": "code",
        "colab": {}
      },
      "source": [
        "from sklearn.metrics import mean_absolute_error"
      ],
      "execution_count": 0,
      "outputs": []
    },
    {
      "cell_type": "code",
      "metadata": {
        "id": "g7JqJmmbzWIw",
        "colab_type": "code",
        "colab": {}
      },
      "source": [
        "pred = model.predict(X_test)"
      ],
      "execution_count": 0,
      "outputs": []
    },
    {
      "cell_type": "code",
      "metadata": {
        "id": "OW122UbwzWI6",
        "colab_type": "code",
        "outputId": "48a73d27-9370-4f80-a061-597f36469981",
        "colab": {}
      },
      "source": [
        "MAPE(y_test, pred)"
      ],
      "execution_count": 0,
      "outputs": [
        {
          "output_type": "execute_result",
          "data": {
            "text/plain": [
              "398.10144899390923"
            ]
          },
          "metadata": {
            "tags": []
          },
          "execution_count": 116
        }
      ]
    },
    {
      "cell_type": "code",
      "metadata": {
        "id": "9E-GsmpFzWJF",
        "colab_type": "code",
        "outputId": "6d770f99-be4e-4701-e212-28508dec8be6",
        "colab": {}
      },
      "source": [
        "import matplotlib.pyplot as plt\n",
        "from scipy.stats import trimboth\n",
        "\n",
        "plt.figure(figsize=(10,5))\n",
        "# plt.hist(df.salary.map(np.log), bins = 30)\n",
        "plt.hist(trimboth(df.salary, 0.01), bins = 30)\n",
        "# plt.xscale('log')\n",
        "plt.show()"
      ],
      "execution_count": 0,
      "outputs": [
        {
          "output_type": "display_data",
          "data": {
            "image/png": "[encoded data removed]",
            "text/plain": [
              "<Figure size 720x360 with 1 Axes>"
            ]
          },
          "metadata": {
            "tags": [],
            "needs_background": "light"
          }
        }
      ]
    },
    {
      "cell_type": "code",
      "metadata": {
        "id": "gBc53CXnzWJV",
        "colab_type": "code",
        "colab": {}
      },
      "source": [
        "import hyperopt\n",
        "from hyperopt import hp, fmin, tpe, STATUS_OK, Trials\n",
        "from hyperopt.pyll import scope"
      ],
      "execution_count": 0,
      "outputs": []
    },
    {
      "cell_type": "code",
      "metadata": {
        "id": "M0l5nJnizWJb",
        "colab_type": "code",
        "colab": {}
      },
      "source": [
        "# Пространство перебора гиперпараметров для hyperopt\n",
        "\n",
        "space ={\n",
        "        'boosting_type': hp.choice( 'boosting_type', ['gbdt', 'dart' ] ),\n",
        "        'max_depth': scope.int(hp.quniform(\"max_depth\", 4, 9, 1)),\n",
        "        'n_estimators': scope.int(hp.quniform('n_estimators', 100, 1000, 10)),\n",
        "        'num_leaves': scope.int(hp.quniform ('num_leaves', 20, 100, 1)),\n",
        "        'min_data_in_leaf':  scope.int(hp.quniform ('min_data_in_leaf', 10, 100, 1)),\n",
        "        'feature_fraction': hp.uniform('feature_fraction', 0.75, 1.0),\n",
        "        'bagging_fraction': hp.uniform('bagging_fraction', 0.75, 1.0),\n",
        "        'learning_rate': hp.loguniform('learning_rate', -6.9, -0.5),\n",
        "        'min_sum_hessian_in_leaf': hp.loguniform('min_sum_hessian_in_leaf', 0, 2.3),\n",
        "        'lambda_l1': hp.uniform('lambda_l1', 1e-4, 1e-6 ),\n",
        "        'lambda_l2': hp.uniform('lambda_l2', 1e-4, 1e-6 ),\n",
        "        'seed': hp.randint('seed',2000000)\n",
        "       }"
      ],
      "execution_count": 0,
      "outputs": []
    },
    {
      "cell_type": "code",
      "metadata": {
        "id": "oQds4v7ezWJj",
        "colab_type": "code",
        "colab": {}
      },
      "source": [
        "\n",
        "# Целевая функция для hyperopt (по ней оптимизируемся)\n",
        "\n",
        "def objective(space):\n",
        "    clf = lgb.LGBMClassifier(**space)\n",
        "    current_score = cross_val_score(clf, x_train, y_train, cv = 5, scoring = make_scorer(MAPE, needs_proba = False)).mean()\n",
        "    return -current_score"
      ],
      "execution_count": 0,
      "outputs": []
    }
  ]
}